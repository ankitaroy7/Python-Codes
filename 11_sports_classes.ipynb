{
 "cells": [
  {
   "cell_type": "code",
   "execution_count": 20,
   "id": "6f2a9e76",
   "metadata": {},
   "outputs": [],
   "source": [
    "import datetime"
   ]
  },
  {
   "cell_type": "code",
   "execution_count": 58,
   "id": "35b77557",
   "metadata": {},
   "outputs": [
    {
     "name": "stdout",
     "output_type": "stream",
     "text": [
      "The Zen of Python, by Tim Peters\n",
      "\n",
      "Beautiful is better than ugly.\n",
      "Explicit is better than implicit.\n",
      "Simple is better than complex.\n",
      "Complex is better than complicated.\n",
      "Flat is better than nested.\n",
      "Sparse is better than dense.\n",
      "Readability counts.\n",
      "Special cases aren't special enough to break the rules.\n",
      "Although practicality beats purity.\n",
      "Errors should never pass silently.\n",
      "Unless explicitly silenced.\n",
      "In the face of ambiguity, refuse the temptation to guess.\n",
      "There should be one-- and preferably only one --obvious way to do it.\n",
      "Although that way may not be obvious at first unless you're Dutch.\n",
      "Now is better than never.\n",
      "Although never is often better than *right* now.\n",
      "If the implementation is hard to explain, it's a bad idea.\n",
      "If the implementation is easy to explain, it may be a good idea.\n",
      "Namespaces are one honking great idea -- let's do more of those!\n"
     ]
    }
   ],
   "source": [
    "import this"
   ]
  },
  {
   "cell_type": "code",
   "execution_count": null,
   "id": "4c6e8f99",
   "metadata": {},
   "outputs": [],
   "source": []
  },
  {
   "cell_type": "code",
   "execution_count": 51,
   "id": "816f4459",
   "metadata": {},
   "outputs": [],
   "source": [
    "class CricketPlayer:\n",
    "    def __init__(self, fname, lname, team, birth_year):\n",
    "        self.first_name = fname\n",
    "        self.last_name = lname\n",
    "        self.birth_year = birth_year\n",
    "        self.team = team\n",
    "        self.scores = []\n",
    "    \n",
    "    def get_age(self):\n",
    "        now = datetime.datetime.now()\n",
    "        return now.year - self.birth_year \n",
    "    \n",
    "    def add_score(self, score):\n",
    "        self.scores.append(score)\n",
    "    \n",
    "    def get_average_score(self):\n",
    "        return sum(self.scores)/len(self.scores)\n",
    "    \n",
    "    def __lt__(self, other):\n",
    "        my_score = self.get_average_score()\n",
    "        other_score = other.get_average_score()\n",
    "        return my_score < other_score\n",
    "        "
   ]
  },
  {
   "cell_type": "code",
   "execution_count": null,
   "id": "dc994042",
   "metadata": {},
   "outputs": [],
   "source": []
  },
  {
   "cell_type": "markdown",
   "id": "f4f7fa6e",
   "metadata": {},
   "source": [
    "<b>Now, to create an object of this class</b>"
   ]
  },
  {
   "cell_type": "code",
   "execution_count": 52,
   "id": "9b996b3e",
   "metadata": {},
   "outputs": [],
   "source": [
    "virat = CricketPlayer('virat','kohli', 'india',1988)\n",
    "david = CricketPlayer('david', 'warner', 'australia',1986)"
   ]
  },
  {
   "cell_type": "code",
   "execution_count": 13,
   "id": "5b3afa42",
   "metadata": {},
   "outputs": [
    {
     "data": {
      "text/plain": [
       "1988"
      ]
     },
     "execution_count": 13,
     "metadata": {},
     "output_type": "execute_result"
    }
   ],
   "source": [
    "virat.birth_year"
   ]
  },
  {
   "cell_type": "code",
   "execution_count": 14,
   "id": "1de6c220",
   "metadata": {},
   "outputs": [
    {
     "data": {
      "text/plain": [
       "'australia'"
      ]
     },
     "execution_count": 14,
     "metadata": {},
     "output_type": "execute_result"
    }
   ],
   "source": [
    "david.team"
   ]
  },
  {
   "cell_type": "code",
   "execution_count": null,
   "id": "ee0bd1a4",
   "metadata": {},
   "outputs": [],
   "source": []
  },
  {
   "cell_type": "code",
   "execution_count": 22,
   "id": "221657cb",
   "metadata": {},
   "outputs": [
    {
     "data": {
      "text/plain": [
       "36"
      ]
     },
     "execution_count": 22,
     "metadata": {},
     "output_type": "execute_result"
    }
   ],
   "source": [
    "virat.get_age()"
   ]
  },
  {
   "cell_type": "code",
   "execution_count": null,
   "id": "3ab07221",
   "metadata": {},
   "outputs": [],
   "source": []
  },
  {
   "cell_type": "code",
   "execution_count": 53,
   "id": "77097e4a",
   "metadata": {},
   "outputs": [],
   "source": [
    "virat.add_score(80)\n",
    "virat.add_score(100)\n",
    "virat.add_score(0)"
   ]
  },
  {
   "cell_type": "code",
   "execution_count": 44,
   "id": "1e895008",
   "metadata": {},
   "outputs": [
    {
     "data": {
      "text/plain": [
       "[80, 100, 0]"
      ]
     },
     "execution_count": 44,
     "metadata": {},
     "output_type": "execute_result"
    }
   ],
   "source": [
    "virat.scores"
   ]
  },
  {
   "cell_type": "code",
   "execution_count": 45,
   "id": "3326d0d8",
   "metadata": {},
   "outputs": [
    {
     "data": {
      "text/plain": [
       "60.0"
      ]
     },
     "execution_count": 45,
     "metadata": {},
     "output_type": "execute_result"
    }
   ],
   "source": [
    "virat.get_average_score()"
   ]
  },
  {
   "cell_type": "code",
   "execution_count": null,
   "id": "1bb9ea2f",
   "metadata": {},
   "outputs": [],
   "source": []
  },
  {
   "cell_type": "code",
   "execution_count": null,
   "id": "f68dcd5e",
   "metadata": {},
   "outputs": [],
   "source": []
  },
  {
   "cell_type": "code",
   "execution_count": 54,
   "id": "a4b53754",
   "metadata": {},
   "outputs": [],
   "source": [
    "dravid = CricketPlayer('rahul', 'dravid', 'india', 1973)"
   ]
  },
  {
   "cell_type": "code",
   "execution_count": 55,
   "id": "498fe514",
   "metadata": {},
   "outputs": [],
   "source": [
    "dravid.add_score(99)\n",
    "dravid.add_score(99)\n",
    "dravid.add_score(0)"
   ]
  },
  {
   "cell_type": "code",
   "execution_count": 50,
   "id": "3cb3989d",
   "metadata": {},
   "outputs": [
    {
     "name": "stdout",
     "output_type": "stream",
     "text": [
      "51\n",
      "66.0\n"
     ]
    }
   ],
   "source": [
    "print(dravid.get_age())\n",
    "print(dravid.get_average_score())"
   ]
  },
  {
   "cell_type": "code",
   "execution_count": 56,
   "id": "d93f27d9",
   "metadata": {},
   "outputs": [
    {
     "data": {
      "text/plain": [
       "False"
      ]
     },
     "execution_count": 56,
     "metadata": {},
     "output_type": "execute_result"
    }
   ],
   "source": [
    "dravid < virat"
   ]
  },
  {
   "cell_type": "code",
   "execution_count": 57,
   "id": "4445e5dc",
   "metadata": {},
   "outputs": [
    {
     "data": {
      "text/plain": [
       "True"
      ]
     },
     "execution_count": 57,
     "metadata": {},
     "output_type": "execute_result"
    }
   ],
   "source": [
    "dravid > virat"
   ]
  },
  {
   "cell_type": "markdown",
   "id": "edac78fb",
   "metadata": {},
   "source": [
    "<b>cricket analytics</b>"
   ]
  },
  {
   "cell_type": "code",
   "execution_count": null,
   "id": "25e0b14a",
   "metadata": {},
   "outputs": [],
   "source": []
  },
  {
   "cell_type": "code",
   "execution_count": null,
   "id": "f85dfc99",
   "metadata": {},
   "outputs": [],
   "source": []
  },
  {
   "cell_type": "markdown",
   "id": "b8765d26",
   "metadata": {},
   "source": [
    "<mark>hello</mark>"
   ]
  },
  {
   "cell_type": "code",
   "execution_count": null,
   "id": "b3408a77",
   "metadata": {},
   "outputs": [],
   "source": [
    "<b>\n",
    "<u>\n",
    "<i>\n",
    "<mark>\n",
    "<del>"
   ]
  },
  {
   "cell_type": "markdown",
   "id": "f76f8a82",
   "metadata": {},
   "source": [
    "<b><u><i>Flower</b><br>\n",
    "<img src=\"flower.jpeg\" alt=\"Flower\" width=\"300\" height=\"200\">"
   ]
  },
  {
   "cell_type": "code",
   "execution_count": null,
   "id": "b360fd3f",
   "metadata": {},
   "outputs": [],
   "source": []
  },
  {
   "cell_type": "code",
   "execution_count": null,
   "id": "50edc0f7",
   "metadata": {},
   "outputs": [],
   "source": []
  }
 ],
 "metadata": {
  "kernelspec": {
   "display_name": "Python 3",
   "language": "python",
   "name": "python3"
  },
  "language_info": {
   "codemirror_mode": {
    "name": "ipython",
    "version": 3
   },
   "file_extension": ".py",
   "mimetype": "text/x-python",
   "name": "python",
   "nbconvert_exporter": "python",
   "pygments_lexer": "ipython3",
   "version": "3.6.12"
  }
 },
 "nbformat": 4,
 "nbformat_minor": 5
}
