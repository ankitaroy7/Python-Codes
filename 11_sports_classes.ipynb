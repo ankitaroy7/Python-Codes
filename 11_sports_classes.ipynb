{
 "cells": [
  {
   "cell_type": "code",
   "execution_count": 20,
   "id": "4fe29bb4",
   "metadata": {},
   "outputs": [],
   "source": [
    "import datetime"
   ]
  },
  {
   "cell_type": "code",
   "execution_count": 58,
   "id": "51cf163a",
   "metadata": {},
   "outputs": [
    {
     "name": "stdout",
     "output_type": "stream",
     "text": [
      "The Zen of Python, by Tim Peters\n",
      "\n",
      "Beautiful is better than ugly.\n",
      "Explicit is better than implicit.\n",
      "Simple is better than complex.\n",
      "Complex is better than complicated.\n",
      "Flat is better than nested.\n",
      "Sparse is better than dense.\n",
      "Readability counts.\n",
      "Special cases aren't special enough to break the rules.\n",
      "Although practicality beats purity.\n",
      "Errors should never pass silently.\n",
      "Unless explicitly silenced.\n",
      "In the face of ambiguity, refuse the temptation to guess.\n",
      "There should be one-- and preferably only one --obvious way to do it.\n",
      "Although that way may not be obvious at first unless you're Dutch.\n",
      "Now is better than never.\n",
      "Although never is often better than *right* now.\n",
      "If the implementation is hard to explain, it's a bad idea.\n",
      "If the implementation is easy to explain, it may be a good idea.\n",
      "Namespaces are one honking great idea -- let's do more of those!\n"
     ]
    }
   ],
   "source": [
    "import this"
   ]
  },
  {
   "cell_type": "code",
   "execution_count": null,
   "id": "bc52c3be",
   "metadata": {},
   "outputs": [],
   "source": []
  },
  {
   "cell_type": "code",
   "execution_count": 51,
   "id": "9fb41ea1",
   "metadata": {},
   "outputs": [],
   "source": [
    "class CricketPlayer:\n",
    "    def __init__(self, fname, lname, team, birth_year):\n",
    "        self.first_name = fname\n",
    "        self.last_name = lname\n",
    "        self.birth_year = birth_year\n",
    "        self.team = team\n",
    "        self.scores = []\n",
    "    \n",
    "    def get_age(self):\n",
    "        now = datetime.datetime.now()\n",
    "        return now.year - self.birth_year \n",
    "    \n",
    "    def add_score(self, score):\n",
    "        self.scores.append(score)\n",
    "    \n",
    "    def get_average_score(self):\n",
    "        return sum(self.scores)/len(self.scores)\n",
    "    \n",
    "    def __lt__(self, other):\n",
    "        my_score = self.get_average_score()\n",
    "        other_score = other.get_average_score()\n",
    "        return my_score < other_score\n",
    "        "
   ]
  },
  {
   "cell_type": "code",
   "execution_count": null,
   "id": "a8575cb3",
   "metadata": {},
   "outputs": [],
   "source": []
  },
  {
   "cell_type": "markdown",
   "id": "38ed7f12",
   "metadata": {},
   "source": [
    "<b>Now, to create an object of this class</b>"
   ]
  },
  {
   "cell_type": "code",
   "execution_count": 52,
   "id": "60160656",
   "metadata": {},
   "outputs": [],
   "source": [
    "virat = CricketPlayer('virat','kohli', 'india',1988)\n",
    "david = CricketPlayer('david', 'warner', 'australia',1986)"
   ]
  },
  {
   "cell_type": "code",
   "execution_count": 13,
   "id": "fba0d423",
   "metadata": {},
   "outputs": [
    {
     "data": {
      "text/plain": [
       "1988"
      ]
     },
     "execution_count": 13,
     "metadata": {},
     "output_type": "execute_result"
    }
   ],
   "source": [
    "virat.birth_year"
   ]
  },
  {
   "cell_type": "code",
   "execution_count": 14,
   "id": "e39e8bb8",
   "metadata": {},
   "outputs": [
    {
     "data": {
      "text/plain": [
       "'australia'"
      ]
     },
     "execution_count": 14,
     "metadata": {},
     "output_type": "execute_result"
    }
   ],
   "source": [
    "david.team"
   ]
  },
  {
   "cell_type": "code",
   "execution_count": null,
   "id": "55c80077",
   "metadata": {},
   "outputs": [],
   "source": []
  },
  {
   "cell_type": "code",
   "execution_count": 22,
   "id": "c9493cbe",
   "metadata": {},
   "outputs": [
    {
     "data": {
      "text/plain": [
       "36"
      ]
     },
     "execution_count": 22,
     "metadata": {},
     "output_type": "execute_result"
    }
   ],
   "source": [
    "virat.get_age()"
   ]
  },
  {
   "cell_type": "code",
   "execution_count": null,
   "id": "5b5ddf8a",
   "metadata": {},
   "outputs": [],
   "source": []
  },
  {
   "cell_type": "code",
   "execution_count": 53,
   "id": "f5706cb7",
   "metadata": {},
   "outputs": [],
   "source": [
    "virat.add_score(80)\n",
    "virat.add_score(100)\n",
    "virat.add_score(0)"
   ]
  },
  {
   "cell_type": "code",
   "execution_count": 44,
   "id": "934efda8",
   "metadata": {},
   "outputs": [
    {
     "data": {
      "text/plain": [
       "[80, 100, 0]"
      ]
     },
     "execution_count": 44,
     "metadata": {},
     "output_type": "execute_result"
    }
   ],
   "source": [
    "virat.scores"
   ]
  },
  {
   "cell_type": "code",
   "execution_count": 45,
   "id": "8292e6a3",
   "metadata": {},
   "outputs": [
    {
     "data": {
      "text/plain": [
       "60.0"
      ]
     },
     "execution_count": 45,
     "metadata": {},
     "output_type": "execute_result"
    }
   ],
   "source": [
    "virat.get_average_score()"
   ]
  },
  {
   "cell_type": "code",
   "execution_count": null,
   "id": "1e8b0fc3",
   "metadata": {},
   "outputs": [],
   "source": []
  },
  {
   "cell_type": "code",
   "execution_count": null,
   "id": "d5b0ff0a",
   "metadata": {},
   "outputs": [],
   "source": []
  },
  {
   "cell_type": "code",
   "execution_count": 54,
   "id": "4ddf43c9",
   "metadata": {},
   "outputs": [],
   "source": [
    "dravid = CricketPlayer('rahul', 'dravid', 'india', 1973)"
   ]
  },
  {
   "cell_type": "code",
   "execution_count": 55,
   "id": "75d4cb9e",
   "metadata": {},
   "outputs": [],
   "source": [
    "dravid.add_score(99)\n",
    "dravid.add_score(99)\n",
    "dravid.add_score(0)"
   ]
  },
  {
   "cell_type": "code",
   "execution_count": 50,
   "id": "d184a716",
   "metadata": {},
   "outputs": [
    {
     "name": "stdout",
     "output_type": "stream",
     "text": [
      "51\n",
      "66.0\n"
     ]
    }
   ],
   "source": [
    "print(dravid.get_age())\n",
    "print(dravid.get_average_score())"
   ]
  },
  {
   "cell_type": "code",
   "execution_count": 56,
   "id": "922341c9",
   "metadata": {},
   "outputs": [
    {
     "data": {
      "text/plain": [
       "False"
      ]
     },
     "execution_count": 56,
     "metadata": {},
     "output_type": "execute_result"
    }
   ],
   "source": [
    "dravid < virat"
   ]
  },
  {
   "cell_type": "code",
   "execution_count": 57,
   "id": "f3cc7ba1",
   "metadata": {},
   "outputs": [
    {
     "data": {
      "text/plain": [
       "True"
      ]
     },
     "execution_count": 57,
     "metadata": {},
     "output_type": "execute_result"
    }
   ],
   "source": [
    "dravid > virat"
   ]
  },
  {
   "cell_type": "markdown",
   "id": "ec48ac79",
   "metadata": {},
   "source": [
    "<b>cricket analytics</b>"
   ]
  },
  {
   "cell_type": "code",
   "execution_count": null,
   "id": "41a6d63a",
   "metadata": {},
   "outputs": [],
   "source": []
  },
  {
   "cell_type": "code",
   "execution_count": null,
   "id": "b10f2a3f",
   "metadata": {},
   "outputs": [],
   "source": []
  },
  {
   "cell_type": "markdown",
   "id": "7c4812cf",
   "metadata": {},
   "source": [
    "<mark>hello</mark>"
   ]
  },
  {
   "cell_type": "code",
   "execution_count": null,
   "id": "33ee87d3",
   "metadata": {},
   "outputs": [],
   "source": [
    "<b>\n",
    "<u>\n",
    "<i>\n",
    "<mark>\n",
    "<del>"
   ]
  },
  {
   "cell_type": "markdown",
   "id": "43819c8a",
   "metadata": {},
   "source": [
    "<b><u><i>INDIA</b><br>\n",
    "<img src=\"india.jpg\" alt=\"cricket team\" width=\"300\" height=\"200\">"
   ]
  },
  {
   "cell_type": "code",
   "execution_count": null,
   "id": "0c17ce4e",
   "metadata": {},
   "outputs": [],
   "source": []
  },
  {
   "cell_type": "code",
   "execution_count": null,
   "id": "d48d9b3b",
   "metadata": {},
   "outputs": [],
   "source": []
  }
 ],
 "metadata": {
  "kernelspec": {
   "display_name": "Python 3",
   "language": "python",
   "name": "python3"
  },
  "language_info": {
   "codemirror_mode": {
    "name": "ipython",
    "version": 3
   },
   "file_extension": ".py",
   "mimetype": "text/x-python",
   "name": "python",
   "nbconvert_exporter": "python",
   "pygments_lexer": "ipython3",
   "version": "3.6.12"
  }
 },
 "nbformat": 4,
 "nbformat_minor": 5
}
