{
 "cells": [
  {
   "cell_type": "markdown",
   "id": "f83a32c5",
   "metadata": {},
   "source": [
    "# Tuples"
   ]
  },
  {
   "cell_type": "code",
   "execution_count": null,
   "id": "c693e694",
   "metadata": {},
   "outputs": [],
   "source": []
  },
  {
   "cell_type": "code",
   "execution_count": 1,
   "id": "6c8b6d60",
   "metadata": {},
   "outputs": [],
   "source": [
    "x, y = [2,3]"
   ]
  },
  {
   "cell_type": "code",
   "execution_count": 2,
   "id": "b477d79d",
   "metadata": {},
   "outputs": [
    {
     "data": {
      "text/plain": [
       "2"
      ]
     },
     "execution_count": 2,
     "metadata": {},
     "output_type": "execute_result"
    }
   ],
   "source": [
    "x"
   ]
  },
  {
   "cell_type": "code",
   "execution_count": 4,
   "id": "003c2b82",
   "metadata": {},
   "outputs": [
    {
     "data": {
      "text/plain": [
       "3"
      ]
     },
     "execution_count": 4,
     "metadata": {},
     "output_type": "execute_result"
    }
   ],
   "source": [
    "y"
   ]
  },
  {
   "cell_type": "code",
   "execution_count": null,
   "id": "d5764f36",
   "metadata": {},
   "outputs": [],
   "source": [
    "# Tuple"
   ]
  },
  {
   "cell_type": "code",
   "execution_count": 8,
   "id": "ec006a96",
   "metadata": {},
   "outputs": [],
   "source": [
    "point = (5,6)"
   ]
  },
  {
   "cell_type": "code",
   "execution_count": 9,
   "id": "f0f8c51c",
   "metadata": {},
   "outputs": [
    {
     "ename": "TypeError",
     "evalue": "'tuple' object does not support item assignment",
     "output_type": "error",
     "traceback": [
      "\u001b[0;31m---------------------------------------------------------------------------\u001b[0m",
      "\u001b[0;31mTypeError\u001b[0m                                 Traceback (most recent call last)",
      "\u001b[0;32m<ipython-input-9-f383dcd0dd73>\u001b[0m in \u001b[0;36m<module>\u001b[0;34m\u001b[0m\n\u001b[0;32m----> 1\u001b[0;31m \u001b[0mpoint\u001b[0m\u001b[0;34m[\u001b[0m\u001b[0;36m1\u001b[0m\u001b[0;34m]\u001b[0m \u001b[0;34m=\u001b[0m \u001b[0;36m8\u001b[0m\u001b[0;34m\u001b[0m\u001b[0;34m\u001b[0m\u001b[0m\n\u001b[0m",
      "\u001b[0;31mTypeError\u001b[0m: 'tuple' object does not support item assignment"
     ]
    }
   ],
   "source": [
    "point[1] = 8"
   ]
  },
  {
   "cell_type": "code",
   "execution_count": 7,
   "id": "f0589ac3",
   "metadata": {},
   "outputs": [
    {
     "data": {
      "text/plain": [
       "[5, 8]"
      ]
     },
     "execution_count": 7,
     "metadata": {},
     "output_type": "execute_result"
    }
   ],
   "source": [
    "point"
   ]
  },
  {
   "cell_type": "code",
   "execution_count": null,
   "id": "3a372471",
   "metadata": {},
   "outputs": [],
   "source": []
  },
  {
   "cell_type": "code",
   "execution_count": 10,
   "id": "b4417257",
   "metadata": {},
   "outputs": [],
   "source": [
    "list1 = [2,3,4]"
   ]
  },
  {
   "cell_type": "code",
   "execution_count": 11,
   "id": "12be9b01",
   "metadata": {},
   "outputs": [],
   "source": [
    "list1[0] = 8"
   ]
  },
  {
   "cell_type": "code",
   "execution_count": 12,
   "id": "9b4615ae",
   "metadata": {},
   "outputs": [
    {
     "data": {
      "text/plain": [
       "[8, 3, 4]"
      ]
     },
     "execution_count": 12,
     "metadata": {},
     "output_type": "execute_result"
    }
   ],
   "source": [
    "list1"
   ]
  },
  {
   "cell_type": "code",
   "execution_count": 14,
   "id": "97de9586",
   "metadata": {},
   "outputs": [
    {
     "ename": "IndexError",
     "evalue": "list assignment index out of range",
     "output_type": "error",
     "traceback": [
      "\u001b[0;31m---------------------------------------------------------------------------\u001b[0m",
      "\u001b[0;31mIndexError\u001b[0m                                Traceback (most recent call last)",
      "\u001b[0;32m<ipython-input-14-89aa3c8edac9>\u001b[0m in \u001b[0;36m<module>\u001b[0;34m\u001b[0m\n\u001b[0;32m----> 1\u001b[0;31m \u001b[0mlist1\u001b[0m\u001b[0;34m[\u001b[0m\u001b[0;36m3\u001b[0m\u001b[0;34m]\u001b[0m \u001b[0;34m=\u001b[0m \u001b[0;36m5\u001b[0m\u001b[0;34m\u001b[0m\u001b[0;34m\u001b[0m\u001b[0m\n\u001b[0m",
      "\u001b[0;31mIndexError\u001b[0m: list assignment index out of range"
     ]
    }
   ],
   "source": [
    "list1[3] = 5"
   ]
  },
  {
   "cell_type": "code",
   "execution_count": null,
   "id": "c0a1a16f",
   "metadata": {},
   "outputs": [],
   "source": []
  },
  {
   "cell_type": "code",
   "execution_count": null,
   "id": "82574e4a",
   "metadata": {},
   "outputs": [],
   "source": []
  },
  {
   "cell_type": "code",
   "execution_count": 15,
   "id": "6b084dce",
   "metadata": {},
   "outputs": [
    {
     "data": {
      "text/plain": [
       "(5, 6)"
      ]
     },
     "execution_count": 15,
     "metadata": {},
     "output_type": "execute_result"
    }
   ],
   "source": [
    "point"
   ]
  },
  {
   "cell_type": "code",
   "execution_count": 16,
   "id": "8d1292bb",
   "metadata": {},
   "outputs": [
    {
     "data": {
      "text/plain": [
       "tuple"
      ]
     },
     "execution_count": 16,
     "metadata": {},
     "output_type": "execute_result"
    }
   ],
   "source": [
    "type(point)"
   ]
  },
  {
   "cell_type": "code",
   "execution_count": 17,
   "id": "b0cdefe4",
   "metadata": {},
   "outputs": [
    {
     "ename": "SyntaxError",
     "evalue": "can't assign to function call (<ipython-input-17-a991efc7b526>, line 1)",
     "output_type": "error",
     "traceback": [
      "\u001b[0;36m  File \u001b[0;32m\"<ipython-input-17-a991efc7b526>\"\u001b[0;36m, line \u001b[0;32m1\u001b[0m\n\u001b[0;31m    point(1) = 9\u001b[0m\n\u001b[0m                ^\u001b[0m\n\u001b[0;31mSyntaxError\u001b[0m\u001b[0;31m:\u001b[0m can't assign to function call\n"
     ]
    }
   ],
   "source": [
    "point(1) = 9"
   ]
  },
  {
   "cell_type": "markdown",
   "id": "93828290",
   "metadata": {},
   "source": [
    "- Tuples are Immutable -> Once you initialise a tuple you cant change it\n",
    "- because of this memory management is easier i.e., Tuples are more memory efficient\n",
    "- If we have a python list it can grow dynamically and memory management is little expensive\n",
    "- Python list is a dynamic array and memory management is a little expensive\n",
    "- In case of tuple because memory is fixed, memory management is easier"
   ]
  },
  {
   "cell_type": "code",
   "execution_count": null,
   "id": "d45e1236",
   "metadata": {},
   "outputs": [],
   "source": []
  },
  {
   "cell_type": "code",
   "execution_count": 18,
   "id": "cb8ea956",
   "metadata": {},
   "outputs": [],
   "source": [
    "# When a function returns two values - using tuples more efficient than using a list "
   ]
  },
  {
   "cell_type": "code",
   "execution_count": 19,
   "id": "20a136a6",
   "metadata": {},
   "outputs": [],
   "source": [
    "def find_pe_and_pb(price, eps, book_value):\n",
    "    pe = price/eps\n",
    "    pb = price/book_value\n",
    "    return (pe, pb)"
   ]
  },
  {
   "cell_type": "code",
   "execution_count": 20,
   "id": "87ecfd36",
   "metadata": {},
   "outputs": [
    {
     "data": {
      "text/plain": [
       "(50.0, 25.0)"
      ]
     },
     "execution_count": 20,
     "metadata": {},
     "output_type": "execute_result"
    }
   ],
   "source": [
    "find_pe_and_pb(100,2,4)"
   ]
  },
  {
   "cell_type": "code",
   "execution_count": 21,
   "id": "1a6121ca",
   "metadata": {},
   "outputs": [],
   "source": [
    "def find_pe_and_pb1(price, eps, book_value):\n",
    "    pe = price/eps\n",
    "    pb = price/book_value\n",
    "    return pe, pb"
   ]
  },
  {
   "cell_type": "code",
   "execution_count": 23,
   "id": "bf2c119f",
   "metadata": {},
   "outputs": [],
   "source": [
    "pe_ratio, pb_ratio = find_pe_and_pb1(100,2,4)"
   ]
  },
  {
   "cell_type": "markdown",
   "id": "bf923fed",
   "metadata": {},
   "source": [
    "Both the above are same"
   ]
  },
  {
   "cell_type": "code",
   "execution_count": 24,
   "id": "0579961c",
   "metadata": {},
   "outputs": [
    {
     "data": {
      "text/plain": [
       "50.0"
      ]
     },
     "execution_count": 24,
     "metadata": {},
     "output_type": "execute_result"
    }
   ],
   "source": [
    "pe_ratio"
   ]
  },
  {
   "cell_type": "code",
   "execution_count": 25,
   "id": "ee34082c",
   "metadata": {},
   "outputs": [
    {
     "data": {
      "text/plain": [
       "25.0"
      ]
     },
     "execution_count": 25,
     "metadata": {},
     "output_type": "execute_result"
    }
   ],
   "source": [
    "pb_ratio"
   ]
  },
  {
   "cell_type": "code",
   "execution_count": null,
   "id": "1b495ee7",
   "metadata": {},
   "outputs": [],
   "source": []
  },
  {
   "cell_type": "code",
   "execution_count": null,
   "id": "796d602d",
   "metadata": {},
   "outputs": [],
   "source": []
  },
  {
   "cell_type": "markdown",
   "id": "c841f649",
   "metadata": {},
   "source": [
    "# Dictionary"
   ]
  },
  {
   "cell_type": "code",
   "execution_count": 26,
   "id": "9881e0e6",
   "metadata": {},
   "outputs": [],
   "source": [
    "contacts = [('rachel',8887771111),('monika',6665554444),('joey',222333444)]"
   ]
  },
  {
   "cell_type": "code",
   "execution_count": 27,
   "id": "a81d6bc9",
   "metadata": {},
   "outputs": [
    {
     "data": {
      "text/plain": [
       "8887771111"
      ]
     },
     "execution_count": 27,
     "metadata": {},
     "output_type": "execute_result"
    }
   ],
   "source": [
    "contacts[0][1]"
   ]
  },
  {
   "cell_type": "code",
   "execution_count": null,
   "id": "6d15fa6f",
   "metadata": {},
   "outputs": [],
   "source": [
    "# suppose youwant to find the contact number of Joey"
   ]
  },
  {
   "cell_type": "code",
   "execution_count": 29,
   "id": "e247a021",
   "metadata": {},
   "outputs": [
    {
     "name": "stdout",
     "output_type": "stream",
     "text": [
      "222333444\n"
     ]
    }
   ],
   "source": [
    "for contact in contacts:\n",
    "    if contact[0] == 'joey':\n",
    "        contact_num = contact[1]\n",
    "\n",
    "print(contact_num)\n",
    "    "
   ]
  },
  {
   "cell_type": "code",
   "execution_count": null,
   "id": "9b5e02bf",
   "metadata": {},
   "outputs": [],
   "source": [
    "# what if the list is large and joey is at last\n",
    "# this method wont be efficient\n",
    "# better way is using dictionary"
   ]
  },
  {
   "cell_type": "code",
   "execution_count": null,
   "id": "79912420",
   "metadata": {},
   "outputs": [],
   "source": []
  },
  {
   "cell_type": "code",
   "execution_count": 31,
   "id": "abe9983f",
   "metadata": {},
   "outputs": [],
   "source": [
    "d = {\n",
    "    'rachel' : 8887771111,\n",
    "    'monika' : 6665554444,\n",
    "    'joey' : 222333444\n",
    "}"
   ]
  },
  {
   "cell_type": "code",
   "execution_count": 32,
   "id": "95751119",
   "metadata": {},
   "outputs": [
    {
     "data": {
      "text/plain": [
       "{'rachel': 8887771111, 'monika': 6665554444, 'joey': 222333444}"
      ]
     },
     "execution_count": 32,
     "metadata": {},
     "output_type": "execute_result"
    }
   ],
   "source": [
    "d"
   ]
  },
  {
   "cell_type": "code",
   "execution_count": 33,
   "id": "25ac739d",
   "metadata": {},
   "outputs": [
    {
     "data": {
      "text/plain": [
       "6665554444"
      ]
     },
     "execution_count": 33,
     "metadata": {},
     "output_type": "execute_result"
    }
   ],
   "source": [
    "d['monika']"
   ]
  },
  {
   "cell_type": "code",
   "execution_count": 34,
   "id": "d4450828",
   "metadata": {},
   "outputs": [],
   "source": [
    "# O(1) time complexity"
   ]
  },
  {
   "cell_type": "markdown",
   "id": "3496d6e9",
   "metadata": {},
   "source": [
    "Dictionary in python is implementing a Hash Map data structure"
   ]
  },
  {
   "cell_type": "markdown",
   "id": "39b46968",
   "metadata": {},
   "source": [
    "In python, hash map is called Dictionary"
   ]
  },
  {
   "cell_type": "code",
   "execution_count": 35,
   "id": "d3caa516",
   "metadata": {},
   "outputs": [
    {
     "ename": "KeyError",
     "evalue": "'ankita'",
     "output_type": "error",
     "traceback": [
      "\u001b[0;31m---------------------------------------------------------------------------\u001b[0m",
      "\u001b[0;31mKeyError\u001b[0m                                  Traceback (most recent call last)",
      "\u001b[0;32m<ipython-input-35-ae7b53cce614>\u001b[0m in \u001b[0;36m<module>\u001b[0;34m\u001b[0m\n\u001b[0;32m----> 1\u001b[0;31m \u001b[0md\u001b[0m\u001b[0;34m[\u001b[0m\u001b[0;34m'ankita'\u001b[0m\u001b[0;34m]\u001b[0m\u001b[0;34m\u001b[0m\u001b[0;34m\u001b[0m\u001b[0m\n\u001b[0m",
      "\u001b[0;31mKeyError\u001b[0m: 'ankita'"
     ]
    }
   ],
   "source": [
    "d['ankita']"
   ]
  },
  {
   "cell_type": "code",
   "execution_count": 41,
   "id": "f8bb43de",
   "metadata": {},
   "outputs": [
    {
     "data": {
      "text/plain": [
       "222333444"
      ]
     },
     "execution_count": 41,
     "metadata": {},
     "output_type": "execute_result"
    }
   ],
   "source": [
    "d.get('joey')"
   ]
  },
  {
   "cell_type": "code",
   "execution_count": 36,
   "id": "76d7072b",
   "metadata": {},
   "outputs": [],
   "source": [
    "d.get('ankita')"
   ]
  },
  {
   "cell_type": "code",
   "execution_count": null,
   "id": "206772df",
   "metadata": {},
   "outputs": [],
   "source": [
    "# In the above case the code will not throw an error as it returns a None value"
   ]
  },
  {
   "cell_type": "code",
   "execution_count": null,
   "id": "92dade78",
   "metadata": {},
   "outputs": [],
   "source": [
    "# We can supply a default value as well"
   ]
  },
  {
   "cell_type": "code",
   "execution_count": 39,
   "id": "551067a8",
   "metadata": {},
   "outputs": [
    {
     "data": {
      "text/plain": [
       "0"
      ]
     },
     "execution_count": 39,
     "metadata": {},
     "output_type": "execute_result"
    }
   ],
   "source": [
    "d.get('ankita',0) # 0 is the default value"
   ]
  },
  {
   "cell_type": "code",
   "execution_count": 40,
   "id": "f2e67033",
   "metadata": {},
   "outputs": [
    {
     "data": {
      "text/plain": [
       "222333444"
      ]
     },
     "execution_count": 40,
     "metadata": {},
     "output_type": "execute_result"
    }
   ],
   "source": [
    "d.get('joey', 0)"
   ]
  },
  {
   "cell_type": "code",
   "execution_count": null,
   "id": "2b06b4a0",
   "metadata": {},
   "outputs": [],
   "source": []
  },
  {
   "cell_type": "code",
   "execution_count": null,
   "id": "b9603a7f",
   "metadata": {},
   "outputs": [],
   "source": []
  },
  {
   "cell_type": "code",
   "execution_count": 42,
   "id": "8e779e51",
   "metadata": {},
   "outputs": [],
   "source": [
    "d['joey'] = 1234567891"
   ]
  },
  {
   "cell_type": "code",
   "execution_count": 43,
   "id": "83d7469b",
   "metadata": {},
   "outputs": [
    {
     "data": {
      "text/plain": [
       "{'rachel': 8887771111, 'monika': 6665554444, 'joey': 1234567891}"
      ]
     },
     "execution_count": 43,
     "metadata": {},
     "output_type": "execute_result"
    }
   ],
   "source": [
    "d"
   ]
  },
  {
   "cell_type": "code",
   "execution_count": null,
   "id": "499733e6",
   "metadata": {},
   "outputs": [],
   "source": []
  },
  {
   "cell_type": "markdown",
   "id": "944982cd",
   "metadata": {},
   "source": [
    "<b>Adding an element in a dictionary</b>"
   ]
  },
  {
   "cell_type": "code",
   "execution_count": 44,
   "id": "6d1565d5",
   "metadata": {},
   "outputs": [],
   "source": [
    "d['satya'] = 5672348901"
   ]
  },
  {
   "cell_type": "code",
   "execution_count": 45,
   "id": "e8cca1d4",
   "metadata": {},
   "outputs": [
    {
     "data": {
      "text/plain": [
       "{'rachel': 8887771111,\n",
       " 'monika': 6665554444,\n",
       " 'joey': 1234567891,\n",
       " 'satya': 5672348901}"
      ]
     },
     "execution_count": 45,
     "metadata": {},
     "output_type": "execute_result"
    }
   ],
   "source": [
    "d"
   ]
  },
  {
   "cell_type": "code",
   "execution_count": null,
   "id": "86d36dbf",
   "metadata": {},
   "outputs": [],
   "source": []
  },
  {
   "cell_type": "markdown",
   "id": "4f975d46",
   "metadata": {},
   "source": [
    "<b>Deleting an element from a dictionary</b>"
   ]
  },
  {
   "cell_type": "code",
   "execution_count": 46,
   "id": "edca830d",
   "metadata": {},
   "outputs": [],
   "source": [
    "del d['satya']"
   ]
  },
  {
   "cell_type": "code",
   "execution_count": 47,
   "id": "3b22ec35",
   "metadata": {},
   "outputs": [
    {
     "data": {
      "text/plain": [
       "{'rachel': 8887771111, 'monika': 6665554444, 'joey': 1234567891}"
      ]
     },
     "execution_count": 47,
     "metadata": {},
     "output_type": "execute_result"
    }
   ],
   "source": [
    "d"
   ]
  },
  {
   "cell_type": "code",
   "execution_count": null,
   "id": "96bc0335",
   "metadata": {},
   "outputs": [],
   "source": []
  },
  {
   "cell_type": "markdown",
   "id": "5dec75a1",
   "metadata": {},
   "source": [
    "<b>in operator</b>"
   ]
  },
  {
   "cell_type": "code",
   "execution_count": 48,
   "id": "812c35b5",
   "metadata": {},
   "outputs": [
    {
     "data": {
      "text/plain": [
       "False"
      ]
     },
     "execution_count": 48,
     "metadata": {},
     "output_type": "execute_result"
    }
   ],
   "source": [
    "'bill' in d"
   ]
  },
  {
   "cell_type": "code",
   "execution_count": 49,
   "id": "9e08b987",
   "metadata": {},
   "outputs": [
    {
     "data": {
      "text/plain": [
       "{'rachel': 8887771111, 'monika': 6665554444, 'joey': 1234567891}"
      ]
     },
     "execution_count": 49,
     "metadata": {},
     "output_type": "execute_result"
    }
   ],
   "source": [
    "d"
   ]
  },
  {
   "cell_type": "code",
   "execution_count": 50,
   "id": "920109ec",
   "metadata": {},
   "outputs": [
    {
     "data": {
      "text/plain": [
       "True"
      ]
     },
     "execution_count": 50,
     "metadata": {},
     "output_type": "execute_result"
    }
   ],
   "source": [
    "'rachel' in d"
   ]
  },
  {
   "cell_type": "code",
   "execution_count": null,
   "id": "d7b9a550",
   "metadata": {},
   "outputs": [],
   "source": []
  },
  {
   "cell_type": "code",
   "execution_count": null,
   "id": "21266d1f",
   "metadata": {},
   "outputs": [],
   "source": []
  },
  {
   "cell_type": "code",
   "execution_count": 51,
   "id": "bfe8640d",
   "metadata": {},
   "outputs": [],
   "source": [
    "d1 = {\n",
    "    'rachel' : {'phone' : 1234, 'address' : '1 blue st'},\n",
    "    'monika' : {'phone' : 3456, 'address' : '2 green st'},\n",
    "    'rachel' : {'phone' : 5678, 'address' : '3 yellow st'}\n",
    "}"
   ]
  },
  {
   "cell_type": "code",
   "execution_count": 53,
   "id": "5c69e106",
   "metadata": {},
   "outputs": [
    {
     "data": {
      "text/plain": [
       "{'phone': 5678, 'address': '3 yellow st'}"
      ]
     },
     "execution_count": 53,
     "metadata": {},
     "output_type": "execute_result"
    }
   ],
   "source": [
    "d1['rachel']"
   ]
  },
  {
   "cell_type": "code",
   "execution_count": 54,
   "id": "c529a1e5",
   "metadata": {},
   "outputs": [
    {
     "data": {
      "text/plain": [
       "'3 yellow st'"
      ]
     },
     "execution_count": 54,
     "metadata": {},
     "output_type": "execute_result"
    }
   ],
   "source": [
    "d1['rachel']['address']"
   ]
  },
  {
   "cell_type": "code",
   "execution_count": null,
   "id": "c392cd17",
   "metadata": {},
   "outputs": [],
   "source": []
  },
  {
   "cell_type": "code",
   "execution_count": null,
   "id": "6984ea50",
   "metadata": {},
   "outputs": [],
   "source": []
  },
  {
   "cell_type": "markdown",
   "id": "53bd6d1d",
   "metadata": {},
   "source": [
    "<b>for Loop in Dictionary</b>"
   ]
  },
  {
   "cell_type": "code",
   "execution_count": 55,
   "id": "89e7445b",
   "metadata": {},
   "outputs": [],
   "source": [
    "d = {\n",
    "    'rachel' : 8887771111,\n",
    "    'monika' : 6665554444,\n",
    "    'joey' : 222333444\n",
    "}"
   ]
  },
  {
   "cell_type": "code",
   "execution_count": null,
   "id": "f920611e",
   "metadata": {},
   "outputs": [],
   "source": []
  },
  {
   "cell_type": "code",
   "execution_count": null,
   "id": "a0ec492d",
   "metadata": {},
   "outputs": [],
   "source": [
    "# Method 1:"
   ]
  },
  {
   "cell_type": "code",
   "execution_count": 57,
   "id": "56353aff",
   "metadata": {},
   "outputs": [
    {
     "name": "stdout",
     "output_type": "stream",
     "text": [
      "rachel 8887771111\n",
      "monika 6665554444\n",
      "joey 222333444\n"
     ]
    }
   ],
   "source": [
    "for name in d:\n",
    "    print(name, d[name])"
   ]
  },
  {
   "cell_type": "code",
   "execution_count": null,
   "id": "ab8ad3fe",
   "metadata": {},
   "outputs": [],
   "source": []
  },
  {
   "cell_type": "code",
   "execution_count": null,
   "id": "d66d9140",
   "metadata": {},
   "outputs": [],
   "source": [
    "# Method 2:"
   ]
  },
  {
   "cell_type": "code",
   "execution_count": 58,
   "id": "23ec5f6d",
   "metadata": {},
   "outputs": [
    {
     "name": "stdout",
     "output_type": "stream",
     "text": [
      "rachel 8887771111\n",
      "monika 6665554444\n",
      "joey 222333444\n"
     ]
    }
   ],
   "source": [
    "for name, number in d.items():\n",
    "    print(name, number)"
   ]
  },
  {
   "cell_type": "markdown",
   "id": "3dc6d200",
   "metadata": {},
   "source": [
    "d.items() here means that each iteration will now have a key, value"
   ]
  },
  {
   "cell_type": "code",
   "execution_count": null,
   "id": "07cdb8a8",
   "metadata": {},
   "outputs": [],
   "source": []
  },
  {
   "cell_type": "markdown",
   "id": "5d3911b6",
   "metadata": {},
   "source": [
    "<b>To know all the functions available in Dictionary</b>"
   ]
  },
  {
   "cell_type": "code",
   "execution_count": 59,
   "id": "0208823c",
   "metadata": {},
   "outputs": [
    {
     "data": {
      "text/plain": [
       "['__class__',\n",
       " '__contains__',\n",
       " '__delattr__',\n",
       " '__delitem__',\n",
       " '__dir__',\n",
       " '__doc__',\n",
       " '__eq__',\n",
       " '__format__',\n",
       " '__ge__',\n",
       " '__getattribute__',\n",
       " '__getitem__',\n",
       " '__gt__',\n",
       " '__hash__',\n",
       " '__init__',\n",
       " '__init_subclass__',\n",
       " '__iter__',\n",
       " '__le__',\n",
       " '__len__',\n",
       " '__lt__',\n",
       " '__ne__',\n",
       " '__new__',\n",
       " '__reduce__',\n",
       " '__reduce_ex__',\n",
       " '__repr__',\n",
       " '__setattr__',\n",
       " '__setitem__',\n",
       " '__sizeof__',\n",
       " '__str__',\n",
       " '__subclasshook__',\n",
       " 'clear',\n",
       " 'copy',\n",
       " 'fromkeys',\n",
       " 'get',\n",
       " 'items',\n",
       " 'keys',\n",
       " 'pop',\n",
       " 'popitem',\n",
       " 'setdefault',\n",
       " 'update',\n",
       " 'values']"
      ]
     },
     "execution_count": 59,
     "metadata": {},
     "output_type": "execute_result"
    }
   ],
   "source": [
    "dir(d)"
   ]
  },
  {
   "cell_type": "code",
   "execution_count": 60,
   "id": "02f2b7ca",
   "metadata": {},
   "outputs": [
    {
     "data": {
      "text/plain": [
       "dict_items([('rachel', 8887771111), ('monika', 6665554444), ('joey', 222333444)])"
      ]
     },
     "execution_count": 60,
     "metadata": {},
     "output_type": "execute_result"
    }
   ],
   "source": [
    "d.items()"
   ]
  },
  {
   "cell_type": "code",
   "execution_count": null,
   "id": "8c874a8b",
   "metadata": {},
   "outputs": [],
   "source": []
  },
  {
   "cell_type": "markdown",
   "id": "9420bae9",
   "metadata": {},
   "source": [
    "<b>Dictionary Function - keys() and values()</b>"
   ]
  },
  {
   "cell_type": "markdown",
   "id": "b26e8593",
   "metadata": {},
   "source": [
    "Use Case: when we need keys in a single list and values in a single list"
   ]
  },
  {
   "cell_type": "code",
   "execution_count": 62,
   "id": "fa7f3547",
   "metadata": {},
   "outputs": [
    {
     "data": {
      "text/plain": [
       "dict_keys(['rachel', 'monika', 'joey'])"
      ]
     },
     "execution_count": 62,
     "metadata": {},
     "output_type": "execute_result"
    }
   ],
   "source": [
    "d.keys()"
   ]
  },
  {
   "cell_type": "code",
   "execution_count": 65,
   "id": "9ba80bbf",
   "metadata": {},
   "outputs": [
    {
     "data": {
      "text/plain": [
       "['rachel', 'monika', 'joey']"
      ]
     },
     "execution_count": 65,
     "metadata": {},
     "output_type": "execute_result"
    }
   ],
   "source": [
    "list(d.keys())"
   ]
  },
  {
   "cell_type": "code",
   "execution_count": 63,
   "id": "de086036",
   "metadata": {},
   "outputs": [
    {
     "data": {
      "text/plain": [
       "dict_values([8887771111, 6665554444, 222333444])"
      ]
     },
     "execution_count": 63,
     "metadata": {},
     "output_type": "execute_result"
    }
   ],
   "source": [
    "d.values()"
   ]
  },
  {
   "cell_type": "code",
   "execution_count": 66,
   "id": "7ee6f38c",
   "metadata": {},
   "outputs": [
    {
     "data": {
      "text/plain": [
       "[8887771111, 6665554444, 222333444]"
      ]
     },
     "execution_count": 66,
     "metadata": {},
     "output_type": "execute_result"
    }
   ],
   "source": [
    "list(d.values())"
   ]
  },
  {
   "cell_type": "code",
   "execution_count": null,
   "id": "cc02e7ac",
   "metadata": {},
   "outputs": [],
   "source": [
    "git"
   ]
  },
  {
   "cell_type": "code",
   "execution_count": null,
   "id": "c7bdd4d0",
   "metadata": {},
   "outputs": [],
   "source": []
  },
  {
   "cell_type": "code",
   "execution_count": 71,
   "id": "53af59bb",
   "metadata": {},
   "outputs": [
    {
     "ename": "SyntaxError",
     "evalue": "invalid character in identifier (<ipython-input-71-253cfe0cb798>, line 1)",
     "output_type": "error",
     "traceback": [
      "\u001b[0;36m  File \u001b[0;32m\"<ipython-input-71-253cfe0cb798>\"\u001b[0;36m, line \u001b[0;32m1\u001b[0m\n\u001b[0;31m    e = {‘Luke’: 1994, ‘Boba’: 1989, ‘Kyle’: 1998, ‘Hann’: 1993}\u001b[0m\n\u001b[0m              ^\u001b[0m\n\u001b[0;31mSyntaxError\u001b[0m\u001b[0;31m:\u001b[0m invalid character in identifier\n"
     ]
    }
   ],
   "source": [
    "e = {‘Luke’: 1994, ‘Boba’: 1989, ‘Kyle’: 1998, ‘Hann’: 1993}"
   ]
  },
  {
   "cell_type": "code",
   "execution_count": 70,
   "id": "97cce856",
   "metadata": {},
   "outputs": [
    {
     "ename": "SyntaxError",
     "evalue": "invalid character in identifier (<ipython-input-70-b26c147e786c>, line 1)",
     "output_type": "error",
     "traceback": [
      "\u001b[0;36m  File \u001b[0;32m\"<ipython-input-70-b26c147e786c>\"\u001b[0;36m, line \u001b[0;32m1\u001b[0m\n\u001b[0;31m    print(d[‘Boba’ : ‘Kyle’])\u001b[0m\n\u001b[0m                 ^\u001b[0m\n\u001b[0;31mSyntaxError\u001b[0m\u001b[0;31m:\u001b[0m invalid character in identifier\n"
     ]
    }
   ],
   "source": [
    "print(d[‘Boba’ : ‘Kyle’])"
   ]
  },
  {
   "cell_type": "code",
   "execution_count": null,
   "id": "c8c71671",
   "metadata": {},
   "outputs": [],
   "source": []
  }
 ],
 "metadata": {
  "kernelspec": {
   "display_name": "Python 3",
   "language": "python",
   "name": "python3"
  },
  "language_info": {
   "codemirror_mode": {
    "name": "ipython",
    "version": 3
   },
   "file_extension": ".py",
   "mimetype": "text/x-python",
   "name": "python",
   "nbconvert_exporter": "python",
   "pygments_lexer": "ipython3",
   "version": "3.6.12"
  }
 },
 "nbformat": 4,
 "nbformat_minor": 5
}
