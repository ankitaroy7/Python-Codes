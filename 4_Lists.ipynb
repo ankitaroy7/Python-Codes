{
 "cells": [
  {
   "cell_type": "code",
   "execution_count": 3,
   "id": "c9be9ca9",
   "metadata": {},
   "outputs": [],
   "source": [
    "items = [\"bread\", \"pasta\", \"fruits\", \"veggies\"]"
   ]
  },
  {
   "cell_type": "code",
   "execution_count": 4,
   "id": "d0e60dd1",
   "metadata": {},
   "outputs": [
    {
     "data": {
      "text/plain": [
       "['bread', 'pasta', 'fruits', 'veggies']"
      ]
     },
     "execution_count": 4,
     "metadata": {},
     "output_type": "execute_result"
    }
   ],
   "source": [
    "items"
   ]
  },
  {
   "cell_type": "code",
   "execution_count": 6,
   "id": "3f50289a",
   "metadata": {},
   "outputs": [
    {
     "data": {
      "text/plain": [
       "'pasta'"
      ]
     },
     "execution_count": 6,
     "metadata": {},
     "output_type": "execute_result"
    }
   ],
   "source": [
    "items[1]"
   ]
  },
  {
   "cell_type": "code",
   "execution_count": 7,
   "id": "0b47cde1",
   "metadata": {},
   "outputs": [
    {
     "data": {
      "text/plain": [
       "'fruits'"
      ]
     },
     "execution_count": 7,
     "metadata": {},
     "output_type": "execute_result"
    }
   ],
   "source": [
    "items[-2]"
   ]
  },
  {
   "cell_type": "code",
   "execution_count": 8,
   "id": "cd4fe9a0",
   "metadata": {},
   "outputs": [
    {
     "data": {
      "text/plain": [
       "['bread', 'pasta']"
      ]
     },
     "execution_count": 8,
     "metadata": {},
     "output_type": "execute_result"
    }
   ],
   "source": [
    "items[:2]"
   ]
  },
  {
   "cell_type": "code",
   "execution_count": null,
   "id": "e1f76e2d",
   "metadata": {},
   "outputs": [],
   "source": []
  },
  {
   "cell_type": "markdown",
   "id": "5f836de5",
   "metadata": {},
   "source": [
    "1. list.append(____)"
   ]
  },
  {
   "cell_type": "code",
   "execution_count": 10,
   "id": "eb1cb034",
   "metadata": {},
   "outputs": [],
   "source": [
    "items.append(\"butter\")"
   ]
  },
  {
   "cell_type": "code",
   "execution_count": 11,
   "id": "3c919fb0",
   "metadata": {},
   "outputs": [
    {
     "data": {
      "text/plain": [
       "['bread', 'pasta', 'fruits', 'veggies', 'butter']"
      ]
     },
     "execution_count": 11,
     "metadata": {},
     "output_type": "execute_result"
    }
   ],
   "source": [
    "items"
   ]
  },
  {
   "cell_type": "code",
   "execution_count": 12,
   "id": "e81e2c29",
   "metadata": {},
   "outputs": [],
   "source": [
    "items.append(1)"
   ]
  },
  {
   "cell_type": "code",
   "execution_count": 13,
   "id": "fcc5f846",
   "metadata": {},
   "outputs": [
    {
     "data": {
      "text/plain": [
       "['bread', 'pasta', 'fruits', 'veggies', 'butter', 1]"
      ]
     },
     "execution_count": 13,
     "metadata": {},
     "output_type": "execute_result"
    }
   ],
   "source": [
    "items"
   ]
  },
  {
   "cell_type": "code",
   "execution_count": 15,
   "id": "75f7db31",
   "metadata": {},
   "outputs": [
    {
     "data": {
      "text/plain": [
       "int"
      ]
     },
     "execution_count": 15,
     "metadata": {},
     "output_type": "execute_result"
    }
   ],
   "source": [
    "type(items[-1])"
   ]
  },
  {
   "cell_type": "code",
   "execution_count": 16,
   "id": "5ff62808",
   "metadata": {},
   "outputs": [],
   "source": [
    "items.remove(items[-1])"
   ]
  },
  {
   "cell_type": "code",
   "execution_count": 17,
   "id": "5932d493",
   "metadata": {},
   "outputs": [
    {
     "data": {
      "text/plain": [
       "['bread', 'pasta', 'fruits', 'veggies', 'butter']"
      ]
     },
     "execution_count": 17,
     "metadata": {},
     "output_type": "execute_result"
    }
   ],
   "source": [
    "items"
   ]
  },
  {
   "cell_type": "code",
   "execution_count": null,
   "id": "d9b6d724",
   "metadata": {},
   "outputs": [],
   "source": []
  },
  {
   "cell_type": "markdown",
   "id": "3c1ff958",
   "metadata": {},
   "source": [
    "2. list.insert(__, __)"
   ]
  },
  {
   "cell_type": "code",
   "execution_count": 18,
   "id": "ac94a122",
   "metadata": {},
   "outputs": [],
   "source": [
    "items = [\"bread\", \"pasta\", \"fruits\", \"veggies\"]"
   ]
  },
  {
   "cell_type": "code",
   "execution_count": 19,
   "id": "c9d83581",
   "metadata": {},
   "outputs": [
    {
     "data": {
      "text/plain": [
       "['bread', 'pasta', 'fruits', 'veggies']"
      ]
     },
     "execution_count": 19,
     "metadata": {},
     "output_type": "execute_result"
    }
   ],
   "source": [
    "items"
   ]
  },
  {
   "cell_type": "code",
   "execution_count": 20,
   "id": "6fcd0d43",
   "metadata": {},
   "outputs": [
    {
     "data": {
      "text/plain": [
       "['bread', 'butter', 'pasta', 'fruits', 'veggies']"
      ]
     },
     "execution_count": 20,
     "metadata": {},
     "output_type": "execute_result"
    }
   ],
   "source": [
    "items.insert(1,\"butter\")\n",
    "items"
   ]
  },
  {
   "cell_type": "code",
   "execution_count": null,
   "id": "823337e8",
   "metadata": {},
   "outputs": [],
   "source": [
    "# insert is expensive in terms of memory"
   ]
  },
  {
   "cell_type": "code",
   "execution_count": null,
   "id": "9ecb3446",
   "metadata": {},
   "outputs": [],
   "source": []
  },
  {
   "cell_type": "markdown",
   "id": "123e76aa",
   "metadata": {},
   "source": [
    "3. listname.remove(__)"
   ]
  },
  {
   "cell_type": "code",
   "execution_count": 21,
   "id": "8d9f4e7a",
   "metadata": {},
   "outputs": [
    {
     "data": {
      "text/plain": [
       "['bread', 'butter', 'fruits', 'veggies']"
      ]
     },
     "execution_count": 21,
     "metadata": {},
     "output_type": "execute_result"
    }
   ],
   "source": [
    "items.remove(\"pasta\")\n",
    "items"
   ]
  },
  {
   "cell_type": "code",
   "execution_count": 22,
   "id": "afc16434",
   "metadata": {},
   "outputs": [
    {
     "ename": "ValueError",
     "evalue": "list.remove(x): x not in list",
     "output_type": "error",
     "traceback": [
      "\u001b[0;31m---------------------------------------------------------------------------\u001b[0m",
      "\u001b[0;31mValueError\u001b[0m                                Traceback (most recent call last)",
      "\u001b[0;32m<ipython-input-22-437637c063f2>\u001b[0m in \u001b[0;36m<module>\u001b[0;34m\u001b[0m\n\u001b[0;32m----> 1\u001b[0;31m \u001b[0mitems\u001b[0m\u001b[0;34m.\u001b[0m\u001b[0mremove\u001b[0m\u001b[0;34m(\u001b[0m\u001b[0;34m\"rice\"\u001b[0m\u001b[0;34m)\u001b[0m\u001b[0;34m\u001b[0m\u001b[0;34m\u001b[0m\u001b[0m\n\u001b[0m",
      "\u001b[0;31mValueError\u001b[0m: list.remove(x): x not in list"
     ]
    }
   ],
   "source": [
    "items.remove(\"rice\")"
   ]
  },
  {
   "cell_type": "code",
   "execution_count": null,
   "id": "e0f2d8a3",
   "metadata": {},
   "outputs": [],
   "source": []
  },
  {
   "cell_type": "code",
   "execution_count": null,
   "id": "5594c812",
   "metadata": {},
   "outputs": [],
   "source": [
    "# in operator"
   ]
  },
  {
   "cell_type": "code",
   "execution_count": 24,
   "id": "080902a1",
   "metadata": {},
   "outputs": [
    {
     "data": {
      "text/plain": [
       "False"
      ]
     },
     "execution_count": 24,
     "metadata": {},
     "output_type": "execute_result"
    }
   ],
   "source": [
    "\"rice\" in items"
   ]
  },
  {
   "cell_type": "code",
   "execution_count": 25,
   "id": "eafc5ec6",
   "metadata": {},
   "outputs": [
    {
     "data": {
      "text/plain": [
       "True"
      ]
     },
     "execution_count": 25,
     "metadata": {},
     "output_type": "execute_result"
    }
   ],
   "source": [
    "\"rice\" not in items"
   ]
  },
  {
   "cell_type": "code",
   "execution_count": 26,
   "id": "0736ea7b",
   "metadata": {},
   "outputs": [
    {
     "data": {
      "text/plain": [
       "True"
      ]
     },
     "execution_count": 26,
     "metadata": {},
     "output_type": "execute_result"
    }
   ],
   "source": [
    "\"bread\" in items"
   ]
  },
  {
   "cell_type": "code",
   "execution_count": null,
   "id": "9be87a58",
   "metadata": {},
   "outputs": [],
   "source": []
  },
  {
   "cell_type": "markdown",
   "id": "e4eae5b3",
   "metadata": {},
   "source": [
    "4. listname.sort()"
   ]
  },
  {
   "cell_type": "code",
   "execution_count": 27,
   "id": "774befc7",
   "metadata": {},
   "outputs": [
    {
     "data": {
      "text/plain": [
       "[30, 34, 100, 7000, 560]"
      ]
     },
     "execution_count": 27,
     "metadata": {},
     "output_type": "execute_result"
    }
   ],
   "source": [
    "expenses = [30,34,100,7000, 560]\n",
    "expenses"
   ]
  },
  {
   "cell_type": "code",
   "execution_count": 28,
   "id": "70c27d0c",
   "metadata": {},
   "outputs": [],
   "source": [
    "expenses.sort()"
   ]
  },
  {
   "cell_type": "code",
   "execution_count": 29,
   "id": "75f333da",
   "metadata": {},
   "outputs": [
    {
     "data": {
      "text/plain": [
       "[30, 34, 100, 560, 7000]"
      ]
     },
     "execution_count": 29,
     "metadata": {},
     "output_type": "execute_result"
    }
   ],
   "source": [
    "expenses"
   ]
  },
  {
   "cell_type": "code",
   "execution_count": null,
   "id": "9a883822",
   "metadata": {},
   "outputs": [],
   "source": [
    "# Descending order sort"
   ]
  },
  {
   "cell_type": "code",
   "execution_count": 30,
   "id": "f4a538d8",
   "metadata": {},
   "outputs": [],
   "source": [
    "expenses.sort(reverse=True)"
   ]
  },
  {
   "cell_type": "code",
   "execution_count": 31,
   "id": "be6ecec5",
   "metadata": {},
   "outputs": [
    {
     "data": {
      "text/plain": [
       "[7000, 560, 100, 34, 30]"
      ]
     },
     "execution_count": 31,
     "metadata": {},
     "output_type": "execute_result"
    }
   ],
   "source": [
    "expenses"
   ]
  },
  {
   "cell_type": "code",
   "execution_count": null,
   "id": "27b1693d",
   "metadata": {},
   "outputs": [],
   "source": []
  },
  {
   "cell_type": "code",
   "execution_count": 33,
   "id": "4db8a53e",
   "metadata": {},
   "outputs": [
    {
     "data": {
      "text/plain": [
       "['__add__',\n",
       " '__class__',\n",
       " '__contains__',\n",
       " '__delattr__',\n",
       " '__delitem__',\n",
       " '__dir__',\n",
       " '__doc__',\n",
       " '__eq__',\n",
       " '__format__',\n",
       " '__ge__',\n",
       " '__getattribute__',\n",
       " '__getitem__',\n",
       " '__gt__',\n",
       " '__hash__',\n",
       " '__iadd__',\n",
       " '__imul__',\n",
       " '__init__',\n",
       " '__init_subclass__',\n",
       " '__iter__',\n",
       " '__le__',\n",
       " '__len__',\n",
       " '__lt__',\n",
       " '__mul__',\n",
       " '__ne__',\n",
       " '__new__',\n",
       " '__reduce__',\n",
       " '__reduce_ex__',\n",
       " '__repr__',\n",
       " '__reversed__',\n",
       " '__rmul__',\n",
       " '__setattr__',\n",
       " '__setitem__',\n",
       " '__sizeof__',\n",
       " '__str__',\n",
       " '__subclasshook__',\n",
       " 'append',\n",
       " 'clear',\n",
       " 'copy',\n",
       " 'count',\n",
       " 'extend',\n",
       " 'index',\n",
       " 'insert',\n",
       " 'pop',\n",
       " 'remove',\n",
       " 'reverse',\n",
       " 'sort']"
      ]
     },
     "execution_count": 33,
     "metadata": {},
     "output_type": "execute_result"
    }
   ],
   "source": [
    "dir(list)"
   ]
  },
  {
   "cell_type": "code",
   "execution_count": 34,
   "id": "570b8f53",
   "metadata": {},
   "outputs": [
    {
     "data": {
      "text/plain": [
       "['bread', 'pasta', 'fruits', 'veggies']"
      ]
     },
     "execution_count": 34,
     "metadata": {},
     "output_type": "execute_result"
    }
   ],
   "source": [
    "list"
   ]
  },
  {
   "cell_type": "code",
   "execution_count": null,
   "id": "e77a53c6",
   "metadata": {},
   "outputs": [],
   "source": []
  },
  {
   "cell_type": "markdown",
   "id": "0b2c436d",
   "metadata": {},
   "source": [
    "5. list1 + list2"
   ]
  },
  {
   "cell_type": "code",
   "execution_count": 35,
   "id": "33a7ef84",
   "metadata": {},
   "outputs": [],
   "source": [
    "food_items = [\"bread\", \"pasta\", \"fruits\"]\n",
    "bathroom_items = [\"shampoo\", \"soap\"]"
   ]
  },
  {
   "cell_type": "code",
   "execution_count": 36,
   "id": "0a2583b3",
   "metadata": {},
   "outputs": [],
   "source": [
    "all_items = food_items + bathroom_items"
   ]
  },
  {
   "cell_type": "code",
   "execution_count": 37,
   "id": "f1661c15",
   "metadata": {},
   "outputs": [
    {
     "data": {
      "text/plain": [
       "['bread', 'pasta', 'fruits', 'shampoo', 'soap']"
      ]
     },
     "execution_count": 37,
     "metadata": {},
     "output_type": "execute_result"
    }
   ],
   "source": [
    "all_items"
   ]
  },
  {
   "cell_type": "code",
   "execution_count": null,
   "id": "f2f214c6",
   "metadata": {},
   "outputs": [],
   "source": []
  },
  {
   "cell_type": "markdown",
   "id": "7ec0cadc",
   "metadata": {},
   "source": [
    "6. len(listname)"
   ]
  },
  {
   "cell_type": "code",
   "execution_count": 38,
   "id": "2e1ff6de",
   "metadata": {},
   "outputs": [
    {
     "data": {
      "text/plain": [
       "5"
      ]
     },
     "execution_count": 38,
     "metadata": {},
     "output_type": "execute_result"
    }
   ],
   "source": [
    "len(all_items)"
   ]
  },
  {
   "cell_type": "code",
   "execution_count": null,
   "id": "54842848",
   "metadata": {},
   "outputs": [],
   "source": []
  },
  {
   "cell_type": "markdown",
   "id": "188566d8",
   "metadata": {},
   "source": [
    "7. dir(listname)"
   ]
  },
  {
   "cell_type": "code",
   "execution_count": 39,
   "id": "b0d3029a",
   "metadata": {},
   "outputs": [
    {
     "data": {
      "text/plain": [
       "['__add__',\n",
       " '__class__',\n",
       " '__contains__',\n",
       " '__delattr__',\n",
       " '__delitem__',\n",
       " '__dir__',\n",
       " '__doc__',\n",
       " '__eq__',\n",
       " '__format__',\n",
       " '__ge__',\n",
       " '__getattribute__',\n",
       " '__getitem__',\n",
       " '__gt__',\n",
       " '__hash__',\n",
       " '__iadd__',\n",
       " '__imul__',\n",
       " '__init__',\n",
       " '__init_subclass__',\n",
       " '__iter__',\n",
       " '__le__',\n",
       " '__len__',\n",
       " '__lt__',\n",
       " '__mul__',\n",
       " '__ne__',\n",
       " '__new__',\n",
       " '__reduce__',\n",
       " '__reduce_ex__',\n",
       " '__repr__',\n",
       " '__reversed__',\n",
       " '__rmul__',\n",
       " '__setattr__',\n",
       " '__setitem__',\n",
       " '__sizeof__',\n",
       " '__str__',\n",
       " '__subclasshook__',\n",
       " 'append',\n",
       " 'clear',\n",
       " 'copy',\n",
       " 'count',\n",
       " 'extend',\n",
       " 'index',\n",
       " 'insert',\n",
       " 'pop',\n",
       " 'remove',\n",
       " 'reverse',\n",
       " 'sort']"
      ]
     },
     "execution_count": 39,
     "metadata": {},
     "output_type": "execute_result"
    }
   ],
   "source": [
    "dir(all_items)"
   ]
  },
  {
   "cell_type": "code",
   "execution_count": null,
   "id": "98ba7319",
   "metadata": {},
   "outputs": [],
   "source": []
  },
  {
   "cell_type": "code",
   "execution_count": null,
   "id": "0bad9d46",
   "metadata": {},
   "outputs": [],
   "source": []
  },
  {
   "cell_type": "markdown",
   "id": "b497187f",
   "metadata": {},
   "source": [
    "8. listname.reverse()"
   ]
  },
  {
   "cell_type": "code",
   "execution_count": 40,
   "id": "93ac92f7",
   "metadata": {},
   "outputs": [
    {
     "data": {
      "text/plain": [
       "['bread', 'butter', 'fruits', 'veggies']"
      ]
     },
     "execution_count": 40,
     "metadata": {},
     "output_type": "execute_result"
    }
   ],
   "source": [
    "items"
   ]
  },
  {
   "cell_type": "code",
   "execution_count": 41,
   "id": "058d01a3",
   "metadata": {},
   "outputs": [],
   "source": [
    "items.reverse()"
   ]
  },
  {
   "cell_type": "code",
   "execution_count": 42,
   "id": "ea8dccb1",
   "metadata": {},
   "outputs": [
    {
     "data": {
      "text/plain": [
       "['veggies', 'fruits', 'butter', 'bread']"
      ]
     },
     "execution_count": 42,
     "metadata": {},
     "output_type": "execute_result"
    }
   ],
   "source": [
    "items"
   ]
  },
  {
   "cell_type": "code",
   "execution_count": null,
   "id": "0243ffec",
   "metadata": {},
   "outputs": [],
   "source": []
  },
  {
   "cell_type": "code",
   "execution_count": 43,
   "id": "700879a1",
   "metadata": {},
   "outputs": [],
   "source": [
    "numlist = [4, 7, 99, 45, 101, 2, 16]"
   ]
  },
  {
   "cell_type": "code",
   "execution_count": 44,
   "id": "435b06eb",
   "metadata": {},
   "outputs": [],
   "source": [
    "numlist.reverse()"
   ]
  },
  {
   "cell_type": "code",
   "execution_count": 45,
   "id": "9d203d09",
   "metadata": {},
   "outputs": [
    {
     "data": {
      "text/plain": [
       "[16, 2, 101, 45, 99, 7, 4]"
      ]
     },
     "execution_count": 45,
     "metadata": {},
     "output_type": "execute_result"
    }
   ],
   "source": [
    "numlist"
   ]
  },
  {
   "cell_type": "code",
   "execution_count": null,
   "id": "453c1bdd",
   "metadata": {},
   "outputs": [],
   "source": []
  },
  {
   "cell_type": "markdown",
   "id": "9c5105e1",
   "metadata": {},
   "source": [
    "* In Python, the lists are heterogenous (and not homogenous)"
   ]
  },
  {
   "cell_type": "code",
   "execution_count": null,
   "id": "5328c893",
   "metadata": {},
   "outputs": [],
   "source": []
  }
 ],
 "metadata": {
  "kernelspec": {
   "display_name": "Python 3",
   "language": "python",
   "name": "python3"
  },
  "language_info": {
   "codemirror_mode": {
    "name": "ipython",
    "version": 3
   },
   "file_extension": ".py",
   "mimetype": "text/x-python",
   "name": "python",
   "nbconvert_exporter": "python",
   "pygments_lexer": "ipython3",
   "version": "3.6.12"
  }
 },
 "nbformat": 4,
 "nbformat_minor": 5
}
