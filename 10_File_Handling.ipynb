{
 "cells": [
  {
   "cell_type": "code",
   "execution_count": 2,
   "id": "2b78694d",
   "metadata": {},
   "outputs": [],
   "source": [
    "f = open(\"funny.txt\",\"r\")"
   ]
  },
  {
   "cell_type": "code",
   "execution_count": 3,
   "id": "ce484163",
   "metadata": {},
   "outputs": [
    {
     "data": {
      "text/plain": [
       "<_io.TextIOWrapper name='funny.txt' mode='r' encoding='UTF-8'>"
      ]
     },
     "execution_count": 3,
     "metadata": {},
     "output_type": "execute_result"
    }
   ],
   "source": [
    "f"
   ]
  },
  {
   "cell_type": "markdown",
   "id": "7e399cc4",
   "metadata": {},
   "source": [
    "# <b>To read the file line by line, for loop can be used</b>"
   ]
  },
  {
   "cell_type": "code",
   "execution_count": 4,
   "id": "7c787e69",
   "metadata": {},
   "outputs": [
    {
     "name": "stdout",
     "output_type": "stream",
     "text": [
      "Teacher: Why are you late, raghu?\n",
      "\n",
      "Raghu: Because of the sign\n",
      "\n",
      "Teacher: What sign?\n",
      "\n",
      "Raghu: The one that says \"School Ahead, Go slow\"\n"
     ]
    }
   ],
   "source": [
    "for line in f:\n",
    "    print(line)"
   ]
  },
  {
   "cell_type": "code",
   "execution_count": 16,
   "id": "0979db2b",
   "metadata": {},
   "outputs": [],
   "source": [
    "f.close()"
   ]
  },
  {
   "cell_type": "code",
   "execution_count": null,
   "id": "2f2217a9",
   "metadata": {},
   "outputs": [],
   "source": []
  },
  {
   "cell_type": "code",
   "execution_count": null,
   "id": "d7e3d44e",
   "metadata": {},
   "outputs": [],
   "source": []
  },
  {
   "cell_type": "code",
   "execution_count": 17,
   "id": "2129aec3",
   "metadata": {},
   "outputs": [
    {
     "name": "stdout",
     "output_type": "stream",
     "text": [
      "Teacher: Why are you late, raghu?\n",
      "\n",
      "Raghu: Because of the sign\n",
      "\n",
      "Teacher: What sign?\n",
      "\n",
      "Raghu: The one that says \"School Ahead, Go slow\"\n"
     ]
    }
   ],
   "source": [
    "with open(\"funny.txt\",\"r\") as f:\n",
    "    for line in f:\n",
    "        print(line)"
   ]
  },
  {
   "cell_type": "markdown",
   "id": "d5b329b8",
   "metadata": {},
   "source": [
    "<b>Note: In the above, I dont need to do the close operation on f</b>"
   ]
  },
  {
   "cell_type": "code",
   "execution_count": null,
   "id": "3332a0a5",
   "metadata": {},
   "outputs": [],
   "source": []
  },
  {
   "cell_type": "code",
   "execution_count": null,
   "id": "42975f0a",
   "metadata": {},
   "outputs": [],
   "source": []
  },
  {
   "cell_type": "code",
   "execution_count": 18,
   "id": "34329a94",
   "metadata": {},
   "outputs": [
    {
     "name": "stdout",
     "output_type": "stream",
     "text": [
      "['Teacher: Why are you late, raghu?\\n', 'Raghu: Because of the sign\\n', 'Teacher: What sign?\\n', 'Raghu: The one that says \"School Ahead, Go slow\"']\n"
     ]
    }
   ],
   "source": [
    "with open(\"funny.txt\",\"r\") as f:\n",
    "    line = f.readlines()\n",
    "    print(line)"
   ]
  },
  {
   "cell_type": "markdown",
   "id": "8459e0ba",
   "metadata": {},
   "source": [
    "<b>Note: In above, it prints a list containting the lines of our test file</b>"
   ]
  },
  {
   "cell_type": "code",
   "execution_count": null,
   "id": "30d3736d",
   "metadata": {},
   "outputs": [],
   "source": []
  },
  {
   "cell_type": "code",
   "execution_count": null,
   "id": "fb62785c",
   "metadata": {},
   "outputs": [],
   "source": []
  },
  {
   "cell_type": "code",
   "execution_count": null,
   "id": "ffb4416c",
   "metadata": {},
   "outputs": [],
   "source": []
  },
  {
   "cell_type": "markdown",
   "id": "d34aef56",
   "metadata": {},
   "source": [
    "# <b>Write mode</b>"
   ]
  },
  {
   "cell_type": "code",
   "execution_count": 22,
   "id": "8e4733ff",
   "metadata": {},
   "outputs": [],
   "source": [
    "with open(\"love.txt\",\"w\") as f1:\n",
    "    f1.write('''\n",
    "    I love Python\n",
    "    My name is Ankita''')"
   ]
  },
  {
   "cell_type": "code",
   "execution_count": 15,
   "id": "24cde01c",
   "metadata": {},
   "outputs": [
    {
     "data": {
      "text/plain": [
       "<_io.TextIOWrapper name='day6_assignment.txt' mode='w' encoding='UTF-8'>"
      ]
     },
     "execution_count": 15,
     "metadata": {},
     "output_type": "execute_result"
    }
   ],
   "source": [
    "f1"
   ]
  },
  {
   "cell_type": "code",
   "execution_count": 23,
   "id": "e5bad989",
   "metadata": {},
   "outputs": [],
   "source": [
    "with open(\"love1.txt\",\"w\") as f1:\n",
    "    f1.write('''\n",
    "    I love Python\n",
    "    My name is Ankita''')"
   ]
  },
  {
   "cell_type": "code",
   "execution_count": null,
   "id": "54eb17a9",
   "metadata": {},
   "outputs": [],
   "source": []
  },
  {
   "cell_type": "code",
   "execution_count": null,
   "id": "87ad1246",
   "metadata": {},
   "outputs": [],
   "source": []
  },
  {
   "cell_type": "markdown",
   "id": "8bc7444b",
   "metadata": {},
   "source": [
    "# <b>Append mode</b>"
   ]
  },
  {
   "cell_type": "code",
   "execution_count": 26,
   "id": "f4f88e5b",
   "metadata": {},
   "outputs": [],
   "source": [
    "with open(\"love.txt\",\"a\") as f1:\n",
    "    f1.write('''\n",
    "    I love Pyspark\n",
    "    I love SQL''')"
   ]
  },
  {
   "cell_type": "code",
   "execution_count": null,
   "id": "008e1fcb",
   "metadata": {},
   "outputs": [],
   "source": []
  },
  {
   "cell_type": "code",
   "execution_count": null,
   "id": "82b96b86",
   "metadata": {},
   "outputs": [],
   "source": []
  },
  {
   "cell_type": "code",
   "execution_count": 33,
   "id": "9fa4e662",
   "metadata": {},
   "outputs": [],
   "source": [
    "with open(\"love.txt\",\"w\") as f1:\n",
    "    f1.writelines(['I love Hadoop', '\\nI love learning coding'])"
   ]
  },
  {
   "cell_type": "code",
   "execution_count": null,
   "id": "5a9a3b32",
   "metadata": {},
   "outputs": [],
   "source": []
  },
  {
   "cell_type": "code",
   "execution_count": null,
   "id": "74db07e7",
   "metadata": {},
   "outputs": [],
   "source": []
  },
  {
   "cell_type": "code",
   "execution_count": null,
   "id": "8b9291e1",
   "metadata": {},
   "outputs": [],
   "source": []
  },
  {
   "cell_type": "markdown",
   "id": "3d78cf99",
   "metadata": {},
   "source": [
    "# <b>scores file and some statistics</b>"
   ]
  },
  {
   "cell_type": "code",
   "execution_count": 57,
   "id": "c043a1df",
   "metadata": {},
   "outputs": [
    {
     "name": "stdout",
     "output_type": "stream",
     "text": [
      "rohit,9\n",
      "\n",
      "shakib,56\n",
      "\n",
      "babar,56\n",
      "\n",
      "rohit,120\n",
      "\n",
      "rohit,105\n",
      "\n",
      "shakib,78\n",
      "\n",
      "rohit,140\n",
      "\n",
      "babar,45\n",
      "\n",
      "rohit,130\n",
      "\n",
      "shakib,102\n",
      "\n",
      "babar,120\n",
      "\n",
      "babar,5\n",
      "\n",
      "shakib,72\n",
      "\n",
      "babar,67\n"
     ]
    }
   ],
   "source": [
    "with open(\"scores.csv\",\"r\") as s:\n",
    "    \n",
    "    for line in s:\n",
    "        print(line)\n",
    "    \n",
    "    "
   ]
  },
  {
   "cell_type": "code",
   "execution_count": null,
   "id": "89a6e9da",
   "metadata": {
    "deletable": false,
    "editable": false,
    "scrolled": true,
    "slideshow": {
     "slide_type": "skip"
    }
   },
   "outputs": [],
   "source": []
  },
  {
   "cell_type": "markdown",
   "id": "ea8d2e69",
   "metadata": {},
   "source": [
    "for each player we want to find the min, max and average numbers"
   ]
  },
  {
   "cell_type": "markdown",
   "id": "1895ea68",
   "metadata": {},
   "source": [
    "- for eg: \n",
    "- rohit: [9,120,105,140,130]\n",
    "- shakib: [56,78,102,72]\n",
    "\n",
    "if I can create a data structure where I have a list of scores, we can use some in-built python function to find the min, max and average of that list\n",
    "\n",
    "- We can create a dictionary like:\n",
    "\n",
    "d = {'rohit': [9,120,105,140,130], 'shakib': [56,78,102,72]}\n",
    "\n"
   ]
  },
  {
   "cell_type": "code",
   "execution_count": null,
   "id": "562d8fd1",
   "metadata": {},
   "outputs": [],
   "source": []
  },
  {
   "cell_type": "code",
   "execution_count": 69,
   "id": "e46b7f8c",
   "metadata": {},
   "outputs": [
    {
     "name": "stdout",
     "output_type": "stream",
     "text": [
      "rohit 9\n"
     ]
    },
    {
     "ename": "AttributeError",
     "evalue": "'dict' object has no attribute 'append'",
     "output_type": "error",
     "traceback": [
      "\u001b[0;31m---------------------------------------------------------------------------\u001b[0m",
      "\u001b[0;31mAttributeError\u001b[0m                            Traceback (most recent call last)",
      "\u001b[0;32m<ipython-input-69-c1a0e61d021d>\u001b[0m in \u001b[0;36m<module>\u001b[0;34m\u001b[0m\n\u001b[1;32m      8\u001b[0m \u001b[0;34m\u001b[0m\u001b[0m\n\u001b[1;32m      9\u001b[0m         \u001b[0mprint\u001b[0m\u001b[0;34m(\u001b[0m\u001b[0mplayer\u001b[0m\u001b[0;34m,\u001b[0m \u001b[0mscore\u001b[0m\u001b[0;34m)\u001b[0m\u001b[0;34m\u001b[0m\u001b[0;34m\u001b[0m\u001b[0m\n\u001b[0;32m---> 10\u001b[0;31m         \u001b[0mplayer_scores\u001b[0m \u001b[0;34m=\u001b[0m \u001b[0mplayer_scores\u001b[0m\u001b[0;34m.\u001b[0m\u001b[0mappend\u001b[0m\u001b[0;34m(\u001b[0m\u001b[0mscore\u001b[0m\u001b[0;34m)\u001b[0m\u001b[0;34m\u001b[0m\u001b[0;34m\u001b[0m\u001b[0m\n\u001b[0m\u001b[1;32m     11\u001b[0m     \u001b[0mprint\u001b[0m\u001b[0;34m(\u001b[0m\u001b[0mplayer_scores\u001b[0m\u001b[0;34m)\u001b[0m\u001b[0;34m\u001b[0m\u001b[0;34m\u001b[0m\u001b[0m\n",
      "\u001b[0;31mAttributeError\u001b[0m: 'dict' object has no attribute 'append'"
     ]
    }
   ],
   "source": [
    "player_scores = {}\n",
    "\n",
    "with open(\"scores.csv\",\"r\") as f:\n",
    "    \n",
    "    for line in f:\n",
    "        player, score = line.split(\",\")\n",
    "        score = int(score)\n",
    "        \n",
    "        print(player, score)\n",
    "        player_scores = player_scores + score\n",
    "    "
   ]
  },
  {
   "cell_type": "code",
   "execution_count": 68,
   "id": "284d2101",
   "metadata": {},
   "outputs": [
    {
     "name": "stdout",
     "output_type": "stream",
     "text": [
      "<class 'str'>\n"
     ]
    }
   ],
   "source": [
    "print(type(line))"
   ]
  },
  {
   "cell_type": "code",
   "execution_count": null,
   "id": "315a418b",
   "metadata": {},
   "outputs": [],
   "source": []
  },
  {
   "cell_type": "code",
   "execution_count": 78,
   "id": "bd6cda78",
   "metadata": {},
   "outputs": [],
   "source": [
    "my_list = []"
   ]
  },
  {
   "cell_type": "code",
   "execution_count": 83,
   "id": "c83953b0",
   "metadata": {},
   "outputs": [
    {
     "data": {
      "text/plain": [
       "NoneType"
      ]
     },
     "execution_count": 83,
     "metadata": {},
     "output_type": "execute_result"
    }
   ],
   "source": [
    "type(my_list)"
   ]
  },
  {
   "cell_type": "code",
   "execution_count": 108,
   "id": "8a3fb398",
   "metadata": {},
   "outputs": [
    {
     "ename": "SyntaxError",
     "evalue": "can't assign to function call (<ipython-input-108-d918c2ebbe67>, line 10)",
     "output_type": "error",
     "traceback": [
      "\u001b[0;36m  File \u001b[0;32m\"<ipython-input-108-d918c2ebbe67>\"\u001b[0;36m, line \u001b[0;32m10\u001b[0m\n\u001b[0;31m    d(line[0]) = line[1]\u001b[0m\n\u001b[0m    ^\u001b[0m\n\u001b[0;31mSyntaxError\u001b[0m\u001b[0;31m:\u001b[0m can't assign to function call\n"
     ]
    }
   ],
   "source": [
    "\n",
    "with open(\"scores.csv\") as f:\n",
    "    d = {}\n",
    "    for line in f:\n",
    "        line = line.split(\",\")\n",
    "        if '\\n' in line[1]:\n",
    "            line[1] = int(line[1][:-1])\n",
    "        \n",
    "        \n",
    "        if line[0] not in list(d.keys()):\n",
    "            d(line[0]) = line[1]\n",
    "        else:\n",
    "            d(line[0]).append(line[1])\n",
    "        \n",
    "        \n",
    "    print(d)"
   ]
  },
  {
   "cell_type": "code",
   "execution_count": 109,
   "id": "cb35d0d4",
   "metadata": {},
   "outputs": [
    {
     "name": "stdout",
     "output_type": "stream",
     "text": [
      "['rohit', 9]\n",
      "['shakib', 56]\n",
      "['babar', 56]\n",
      "['rohit', 120]\n",
      "['rohit', 105]\n",
      "['shakib', 78]\n",
      "['rohit', 140]\n",
      "['babar', 45]\n",
      "['rohit', 130]\n",
      "['shakib', 102]\n",
      "['babar', 120]\n",
      "['babar', 5]\n",
      "['shakib', 72]\n",
      "['babar', '67']\n"
     ]
    }
   ],
   "source": [
    "\n",
    "with open(\"scores.csv\") as f:\n",
    "    d = {}\n",
    "    for line in f:\n",
    "        line = line.split(\",\")\n",
    "        if '\\n' in line[1]:\n",
    "            line[1] = int(line[1][:-1])\n",
    "        print(line)"
   ]
  },
  {
   "cell_type": "code",
   "execution_count": 123,
   "id": "ae8acb4d",
   "metadata": {},
   "outputs": [],
   "source": [
    "with open(\"scores.csv\") as f:\n",
    "    d = {}\n",
    "    \n",
    "    for line in f:\n",
    "        l = []\n",
    "        line = line.split(\",\")\n",
    "        if '\\n' in line[1]:\n",
    "            line[1] = int(line[1][:-1])\n",
    "        \n",
    "        \n",
    "        \n",
    "        if line[0] in list(d.keys()):\n",
    "            d[line[0]] = d[line[0]].append(line[1])\n",
    "        else:\n",
    "            d[line[0]] = l.append(line[1])\n",
    "            \n",
    "\n",
    "        "
   ]
  },
  {
   "cell_type": "code",
   "execution_count": null,
   "id": "37a05a34",
   "metadata": {},
   "outputs": [],
   "source": []
  },
  {
   "cell_type": "code",
   "execution_count": 152,
   "id": "064c1de9",
   "metadata": {},
   "outputs": [
    {
     "name": "stdout",
     "output_type": "stream",
     "text": [
      "{'rohit': [9, 120, 105, 140, 130], 'shakib': [56, 78, 102, 72], 'babar': [56, 45, 120, 5, 67]}\n"
     ]
    }
   ],
   "source": [
    "with open(\"scores.csv\") as f:\n",
    "    d = {}\n",
    "    \n",
    "    for line in f:\n",
    "        l = []\n",
    "        line = line.split(\",\")\n",
    "        if '\\n' in line[1]:\n",
    "            line[1] = line[1][:-1]\n",
    "        line[1] = int(line[1])\n",
    "        \n",
    "        if line[0] not in list(d.keys()):\n",
    "            l.append(line[1])\n",
    "            d[line[0]] = l\n",
    "            \n",
    "        else:\n",
    "            d[line[0]].append(line[1])\n",
    "    print(d)"
   ]
  },
  {
   "cell_type": "code",
   "execution_count": 153,
   "id": "5ead1e67",
   "metadata": {},
   "outputs": [
    {
     "data": {
      "text/plain": [
       "{'rohit': [9, 120, 105, 140, 130],\n",
       " 'shakib': [56, 78, 102, 72],\n",
       " 'babar': [56, 45, 120, 5, 67]}"
      ]
     },
     "execution_count": 153,
     "metadata": {},
     "output_type": "execute_result"
    }
   ],
   "source": [
    "d"
   ]
  },
  {
   "cell_type": "code",
   "execution_count": null,
   "id": "02b16aca",
   "metadata": {},
   "outputs": [],
   "source": []
  },
  {
   "cell_type": "code",
   "execution_count": null,
   "id": "5c7beacd",
   "metadata": {},
   "outputs": [],
   "source": []
  },
  {
   "cell_type": "code",
   "execution_count": 154,
   "id": "6ed60993",
   "metadata": {},
   "outputs": [],
   "source": [
    "a= \"ankita,roy\""
   ]
  },
  {
   "cell_type": "code",
   "execution_count": 157,
   "id": "1f2b6125",
   "metadata": {},
   "outputs": [],
   "source": [
    "first_name, last_name = a.split(\",\")"
   ]
  },
  {
   "cell_type": "code",
   "execution_count": 158,
   "id": "61456f98",
   "metadata": {},
   "outputs": [
    {
     "data": {
      "text/plain": [
       "'ankita'"
      ]
     },
     "execution_count": 158,
     "metadata": {},
     "output_type": "execute_result"
    }
   ],
   "source": [
    "first_name"
   ]
  },
  {
   "cell_type": "code",
   "execution_count": 156,
   "id": "994555a0",
   "metadata": {},
   "outputs": [
    {
     "data": {
      "text/plain": [
       "['a', 'n', 'k', 'i', 't', 'a']"
      ]
     },
     "execution_count": 156,
     "metadata": {},
     "output_type": "execute_result"
    }
   ],
   "source": [
    "list(\"ankita\")"
   ]
  },
  {
   "cell_type": "code",
   "execution_count": 177,
   "id": "521349b9",
   "metadata": {},
   "outputs": [
    {
     "name": "stdout",
     "output_type": "stream",
     "text": [
      "ankita roy\n"
     ]
    }
   ],
   "source": [
    "print(f\"{first_name} roy\")"
   ]
  },
  {
   "cell_type": "code",
   "execution_count": null,
   "id": "b6fdfe03",
   "metadata": {},
   "outputs": [],
   "source": []
  },
  {
   "cell_type": "code",
   "execution_count": null,
   "id": "fc52a9b7",
   "metadata": {},
   "outputs": [],
   "source": []
  },
  {
   "cell_type": "code",
   "execution_count": 185,
   "id": "bc2ec355",
   "metadata": {},
   "outputs": [
    {
     "name": "stdout",
     "output_type": "stream",
     "text": [
      "rohit ==> min:9, max:140, avg:100.8\n",
      "shakib ==> min:56, max:102, avg:77.0\n",
      "babar ==> min:5, max:120, avg:58.6\n",
      "\n",
      " {'rohit': [9, 120, 105, 140, 130], 'shakib': [56, 78, 102, 72], 'babar': [56, 45, 120, 5, 67]}\n"
     ]
    }
   ],
   "source": [
    "player_scores = {}\n",
    "with open(\"scores.csv\") as f:\n",
    "    for line in f:\n",
    "        player, score = line.split(\",\")\n",
    "        score = int(score)\n",
    "        if player in player_scores:\n",
    "            player_scores[player].append(score)\n",
    "        else:    \n",
    "            player_scores[player] = [score]\n",
    "    \n",
    "    for player in player_scores:\n",
    "        min_score = min(player_scores[player])\n",
    "        max_score = max(player_scores[player])\n",
    "        avg_score = sum(player_scores[player])/len(player_scores[player])\n",
    "        print(f\"{player} ==> min:{min_score}, max:{max_score}, avg:{avg_score}\")\n",
    "        \n",
    "            \n",
    "    print(\"\\n\",player_scores)\n",
    "        \n",
    "    "
   ]
  },
  {
   "cell_type": "code",
   "execution_count": null,
   "id": "1126a818",
   "metadata": {},
   "outputs": [],
   "source": []
  }
 ],
 "metadata": {
  "kernelspec": {
   "display_name": "Python 3",
   "language": "python",
   "name": "python3"
  },
  "language_info": {
   "codemirror_mode": {
    "name": "ipython",
    "version": 3
   },
   "file_extension": ".py",
   "mimetype": "text/x-python",
   "name": "python",
   "nbconvert_exporter": "python",
   "pygments_lexer": "ipython3",
   "version": "3.6.12"
  }
 },
 "nbformat": 4,
 "nbformat_minor": 5
}
