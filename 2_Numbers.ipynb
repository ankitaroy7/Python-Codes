{
 "cells": [
  {
   "cell_type": "code",
   "execution_count": null,
   "id": "a98b9b1c",
   "metadata": {},
   "outputs": [],
   "source": [
    "# // - floor division\n",
    "# % - modulo\n",
    "# order of precedence\n",
    "# 2.3e4 - type:float\n",
    "# format function"
   ]
  },
  {
   "cell_type": "code",
   "execution_count": null,
   "id": "67b41219",
   "metadata": {},
   "outputs": [],
   "source": []
  },
  {
   "cell_type": "code",
   "execution_count": null,
   "id": "824cad9c",
   "metadata": {},
   "outputs": [],
   "source": []
  },
  {
   "cell_type": "code",
   "execution_count": null,
   "id": "ee369dcf",
   "metadata": {},
   "outputs": [],
   "source": []
  },
  {
   "cell_type": "code",
   "execution_count": null,
   "id": "95ed413f",
   "metadata": {},
   "outputs": [],
   "source": []
  },
  {
   "cell_type": "code",
   "execution_count": null,
   "id": "3cd04375",
   "metadata": {},
   "outputs": [],
   "source": []
  },
  {
   "cell_type": "code",
   "execution_count": null,
   "id": "0b7ec8b3",
   "metadata": {},
   "outputs": [],
   "source": []
  },
  {
   "cell_type": "code",
   "execution_count": 1,
   "id": "fd1a1cd1",
   "metadata": {},
   "outputs": [],
   "source": [
    "base = 10\n",
    "height = 7"
   ]
  },
  {
   "cell_type": "code",
   "execution_count": 2,
   "id": "e41b32fa",
   "metadata": {},
   "outputs": [
    {
     "data": {
      "text/plain": [
       "int"
      ]
     },
     "execution_count": 2,
     "metadata": {},
     "output_type": "execute_result"
    }
   ],
   "source": [
    "type(base)"
   ]
  },
  {
   "cell_type": "code",
   "execution_count": 4,
   "id": "a380e5a4",
   "metadata": {},
   "outputs": [
    {
     "data": {
      "text/plain": [
       "35.0"
      ]
     },
     "execution_count": 4,
     "metadata": {},
     "output_type": "execute_result"
    }
   ],
   "source": [
    "area = (1/2) * base * height\n",
    "area"
   ]
  },
  {
   "cell_type": "code",
   "execution_count": null,
   "id": "514f5e0f",
   "metadata": {},
   "outputs": [],
   "source": []
  },
  {
   "cell_type": "code",
   "execution_count": 5,
   "id": "269f0a0f",
   "metadata": {},
   "outputs": [
    {
     "data": {
      "text/plain": [
       "3"
      ]
     },
     "execution_count": 5,
     "metadata": {},
     "output_type": "execute_result"
    }
   ],
   "source": [
    "# floor division\n",
    "10//3"
   ]
  },
  {
   "cell_type": "code",
   "execution_count": 6,
   "id": "6d6f08fb",
   "metadata": {},
   "outputs": [
    {
     "data": {
      "text/plain": [
       "2"
      ]
     },
     "execution_count": 6,
     "metadata": {},
     "output_type": "execute_result"
    }
   ],
   "source": [
    "29//10"
   ]
  },
  {
   "cell_type": "code",
   "execution_count": 7,
   "id": "c1f9bec5",
   "metadata": {},
   "outputs": [
    {
     "data": {
      "text/plain": [
       "2"
      ]
     },
     "execution_count": 7,
     "metadata": {},
     "output_type": "execute_result"
    }
   ],
   "source": [
    "int(29/10)"
   ]
  },
  {
   "cell_type": "code",
   "execution_count": 8,
   "id": "bfe19b9c",
   "metadata": {},
   "outputs": [
    {
     "data": {
      "text/plain": [
       "3"
      ]
     },
     "execution_count": 8,
     "metadata": {},
     "output_type": "execute_result"
    }
   ],
   "source": [
    "int(10/3)"
   ]
  },
  {
   "cell_type": "code",
   "execution_count": null,
   "id": "81f3a556",
   "metadata": {},
   "outputs": [],
   "source": []
  },
  {
   "cell_type": "code",
   "execution_count": 9,
   "id": "410cc8e2",
   "metadata": {},
   "outputs": [
    {
     "data": {
      "text/plain": [
       "2"
      ]
     },
     "execution_count": 9,
     "metadata": {},
     "output_type": "execute_result"
    }
   ],
   "source": [
    "# Modulo operator\n",
    "17%3"
   ]
  },
  {
   "cell_type": "code",
   "execution_count": null,
   "id": "e08539a3",
   "metadata": {},
   "outputs": [],
   "source": []
  },
  {
   "cell_type": "code",
   "execution_count": 10,
   "id": "b0938a8f",
   "metadata": {},
   "outputs": [
    {
     "data": {
      "text/plain": [
       "9"
      ]
     },
     "execution_count": 10,
     "metadata": {},
     "output_type": "execute_result"
    }
   ],
   "source": [
    "# Power\n",
    "3**2"
   ]
  },
  {
   "cell_type": "code",
   "execution_count": null,
   "id": "89492509",
   "metadata": {},
   "outputs": [],
   "source": []
  },
  {
   "cell_type": "code",
   "execution_count": 11,
   "id": "1adc909c",
   "metadata": {},
   "outputs": [
    {
     "data": {
      "text/plain": [
       "16"
      ]
     },
     "execution_count": 11,
     "metadata": {},
     "output_type": "execute_result"
    }
   ],
   "source": [
    "# order of precedence\n",
    "10+2*3"
   ]
  },
  {
   "cell_type": "code",
   "execution_count": null,
   "id": "b796a55c",
   "metadata": {},
   "outputs": [],
   "source": [
    "# Practice makes a programmer perfect"
   ]
  },
  {
   "cell_type": "code",
   "execution_count": null,
   "id": "3f0027fd",
   "metadata": {},
   "outputs": [],
   "source": []
  },
  {
   "cell_type": "code",
   "execution_count": 12,
   "id": "80536c4b",
   "metadata": {},
   "outputs": [
    {
     "data": {
      "text/plain": [
       "23000.0"
      ]
     },
     "execution_count": 12,
     "metadata": {},
     "output_type": "execute_result"
    }
   ],
   "source": [
    "foo = 2.3e4\n",
    "foo"
   ]
  },
  {
   "cell_type": "code",
   "execution_count": 13,
   "id": "ca1a7c33",
   "metadata": {},
   "outputs": [
    {
     "data": {
      "text/plain": [
       "float"
      ]
     },
     "execution_count": 13,
     "metadata": {},
     "output_type": "execute_result"
    }
   ],
   "source": [
    "type(foo)"
   ]
  },
  {
   "cell_type": "code",
   "execution_count": 15,
   "id": "646f7ac8",
   "metadata": {},
   "outputs": [
    {
     "data": {
      "text/plain": [
       "10000.0"
      ]
     },
     "execution_count": 15,
     "metadata": {},
     "output_type": "execute_result"
    }
   ],
   "source": [
    "1e4"
   ]
  },
  {
   "cell_type": "code",
   "execution_count": 16,
   "id": "0b244aff",
   "metadata": {},
   "outputs": [
    {
     "data": {
      "text/plain": [
       "0.0023"
      ]
     },
     "execution_count": 16,
     "metadata": {},
     "output_type": "execute_result"
    }
   ],
   "source": [
    "bar = 2.3e-3\n",
    "bar"
   ]
  },
  {
   "cell_type": "code",
   "execution_count": 17,
   "id": "ce451dd4",
   "metadata": {},
   "outputs": [
    {
     "data": {
      "text/plain": [
       "0.0023"
      ]
     },
     "execution_count": 17,
     "metadata": {},
     "output_type": "execute_result"
    }
   ],
   "source": [
    "2.3*10**-3"
   ]
  },
  {
   "cell_type": "code",
   "execution_count": null,
   "id": "34e2ae59",
   "metadata": {},
   "outputs": [],
   "source": []
  },
  {
   "cell_type": "code",
   "execution_count": 18,
   "id": "ed5ad006",
   "metadata": {},
   "outputs": [],
   "source": [
    "food = 120.34\n",
    "rent = 500.4\n",
    "utilities = 200.5"
   ]
  },
  {
   "cell_type": "code",
   "execution_count": 19,
   "id": "46c38533",
   "metadata": {},
   "outputs": [
    {
     "data": {
      "text/plain": [
       "821.24"
      ]
     },
     "execution_count": 19,
     "metadata": {},
     "output_type": "execute_result"
    }
   ],
   "source": [
    "total = food+rent+utilities\n",
    "total"
   ]
  },
  {
   "cell_type": "code",
   "execution_count": 20,
   "id": "41eb2023",
   "metadata": {},
   "outputs": [
    {
     "data": {
      "text/plain": [
       "821"
      ]
     },
     "execution_count": 20,
     "metadata": {},
     "output_type": "execute_result"
    }
   ],
   "source": [
    "round(total)"
   ]
  },
  {
   "cell_type": "code",
   "execution_count": 21,
   "id": "bd1e200e",
   "metadata": {},
   "outputs": [
    {
     "data": {
      "text/plain": [
       "821.2"
      ]
     },
     "execution_count": 21,
     "metadata": {},
     "output_type": "execute_result"
    }
   ],
   "source": [
    "round(total,1)"
   ]
  },
  {
   "cell_type": "code",
   "execution_count": 22,
   "id": "41966dea",
   "metadata": {},
   "outputs": [],
   "source": [
    "income = 10000\n",
    "expenses = 9000\n",
    "savings = income - expenses"
   ]
  },
  {
   "cell_type": "code",
   "execution_count": 23,
   "id": "6ce74e61",
   "metadata": {},
   "outputs": [
    {
     "data": {
      "text/plain": [
       "1000"
      ]
     },
     "execution_count": 23,
     "metadata": {},
     "output_type": "execute_result"
    }
   ],
   "source": [
    "savings"
   ]
  },
  {
   "cell_type": "code",
   "execution_count": null,
   "id": "3d33da3f",
   "metadata": {},
   "outputs": [],
   "source": []
  },
  {
   "cell_type": "code",
   "execution_count": 31,
   "id": "2df18e83",
   "metadata": {},
   "outputs": [],
   "source": [
    "food = \"120.34\"\n",
    "rent = \"500.67\""
   ]
  },
  {
   "cell_type": "code",
   "execution_count": 32,
   "id": "7ae77b94",
   "metadata": {},
   "outputs": [
    {
     "data": {
      "text/plain": [
       "'120.34500.67'"
      ]
     },
     "execution_count": 32,
     "metadata": {},
     "output_type": "execute_result"
    }
   ],
   "source": [
    "total = food+rent\n",
    "total"
   ]
  },
  {
   "cell_type": "code",
   "execution_count": null,
   "id": "735a48d3",
   "metadata": {},
   "outputs": [],
   "source": []
  },
  {
   "cell_type": "markdown",
   "id": "fdf4af4b",
   "metadata": {},
   "source": [
    "# binary representation - Format Function"
   ]
  },
  {
   "cell_type": "code",
   "execution_count": 37,
   "id": "30086415",
   "metadata": {},
   "outputs": [
    {
     "ename": "ValueError",
     "evalue": "Unknown format code 'b' for object of type 'float'",
     "output_type": "error",
     "traceback": [
      "\u001b[0;31m---------------------------------------------------------------------------\u001b[0m",
      "\u001b[0;31mValueError\u001b[0m                                Traceback (most recent call last)",
      "\u001b[0;32m<ipython-input-37-5a941ad38eca>\u001b[0m in \u001b[0;36m<module>\u001b[0;34m\u001b[0m\n\u001b[0;32m----> 1\u001b[0;31m \u001b[0mformat\u001b[0m\u001b[0;34m(\u001b[0m\u001b[0;36m100.1\u001b[0m\u001b[0;34m,\u001b[0m\u001b[0;34m'b'\u001b[0m\u001b[0;34m)\u001b[0m\u001b[0;34m\u001b[0m\u001b[0;34m\u001b[0m\u001b[0m\n\u001b[0m",
      "\u001b[0;31mValueError\u001b[0m: Unknown format code 'b' for object of type 'float'"
     ]
    }
   ],
   "source": [
    "format(100.1,'b')"
   ]
  },
  {
   "cell_type": "code",
   "execution_count": 36,
   "id": "d85969fd",
   "metadata": {},
   "outputs": [
    {
     "data": {
      "text/plain": [
       "'11001'"
      ]
     },
     "execution_count": 36,
     "metadata": {},
     "output_type": "execute_result"
    }
   ],
   "source": [
    "format(25,'b')"
   ]
  },
  {
   "cell_type": "code",
   "execution_count": null,
   "id": "5f40575b",
   "metadata": {},
   "outputs": [],
   "source": [
    "# ieee floating point standard ieee 754"
   ]
  },
  {
   "cell_type": "code",
   "execution_count": 38,
   "id": "ea198325",
   "metadata": {},
   "outputs": [
    {
     "name": "stdout",
     "output_type": "stream",
     "text": [
      "Help on built-in function format in module builtins:\n",
      "\n",
      "format(value, format_spec='', /)\n",
      "    Return value.__format__(format_spec)\n",
      "    \n",
      "    format_spec defaults to the empty string.\n",
      "    See the Format Specification Mini-Language section of help('FORMATTING') for\n",
      "    details.\n",
      "\n"
     ]
    }
   ],
   "source": [
    "https://www.programiz.com/python-programming/methods/built-in/format#:~:text=Example%3A%20Numeric%20Formatting%20Using%20format()&text=Here%2C%20format(123%2C%20',decimal%20and%20b%20for%20binary.\n",
    "    "
   ]
  },
  {
   "cell_type": "code",
   "execution_count": 39,
   "id": "2241020f",
   "metadata": {},
   "outputs": [
    {
     "data": {
      "text/plain": [
       "'101'"
      ]
     },
     "execution_count": 39,
     "metadata": {},
     "output_type": "execute_result"
    }
   ],
   "source": [
    "format(101, 'd')"
   ]
  },
  {
   "cell_type": "code",
   "execution_count": 41,
   "id": "fb296b93",
   "metadata": {},
   "outputs": [
    {
     "name": "stdout",
     "output_type": "stream",
     "text": [
      "+25\n"
     ]
    }
   ],
   "source": [
    "print(format(25,'+'))"
   ]
  },
  {
   "cell_type": "code",
   "execution_count": 42,
   "id": "45f91a38",
   "metadata": {},
   "outputs": [
    {
     "data": {
      "text/plain": [
       "'2500.000000%'"
      ]
     },
     "execution_count": 42,
     "metadata": {},
     "output_type": "execute_result"
    }
   ],
   "source": [
    "format(25,'%')"
   ]
  },
  {
   "cell_type": "code",
   "execution_count": 45,
   "id": "c6eb3beb",
   "metadata": {},
   "outputs": [
    {
     "data": {
      "text/plain": [
       "'25'"
      ]
     },
     "execution_count": 45,
     "metadata": {},
     "output_type": "execute_result"
    }
   ],
   "source": [
    "format(25,'_')"
   ]
  },
  {
   "cell_type": "code",
   "execution_count": 44,
   "id": "767f631f",
   "metadata": {},
   "outputs": [
    {
     "name": "stdout",
     "output_type": "stream",
     "text": [
      "256.7589\n"
     ]
    }
   ],
   "source": [
    "print(format(256.7589432, '.4f'))"
   ]
  },
  {
   "cell_type": "code",
   "execution_count": null,
   "id": "2e207897",
   "metadata": {},
   "outputs": [],
   "source": []
  },
  {
   "cell_type": "code",
   "execution_count": null,
   "id": "5bfbdf16",
   "metadata": {},
   "outputs": [],
   "source": [
    "# Exercise"
   ]
  },
  {
   "cell_type": "code",
   "execution_count": 48,
   "id": "0c513e87",
   "metadata": {},
   "outputs": [
    {
     "data": {
      "text/plain": [
       "'221'"
      ]
     },
     "execution_count": 48,
     "metadata": {},
     "output_type": "execute_result"
    }
   ],
   "source": [
    "# 1.\n",
    "format(145,'o')"
   ]
  },
  {
   "cell_type": "code",
   "execution_count": 49,
   "id": "738f4ffd",
   "metadata": {},
   "outputs": [
    {
     "data": {
      "text/plain": [
       "'1.450000e+02'"
      ]
     },
     "execution_count": 49,
     "metadata": {},
     "output_type": "execute_result"
    }
   ],
   "source": [
    "format(145,'e')"
   ]
  },
  {
   "cell_type": "code",
   "execution_count": 51,
   "id": "ecd72eb5",
   "metadata": {},
   "outputs": [
    {
     "data": {
      "text/plain": [
       "'91'"
      ]
     },
     "execution_count": 51,
     "metadata": {},
     "output_type": "execute_result"
    }
   ],
   "source": [
    "format(145,'x')"
   ]
  },
  {
   "cell_type": "code",
   "execution_count": 52,
   "id": "b9f67d20",
   "metadata": {},
   "outputs": [
    {
     "data": {
      "text/plain": [
       "'273ed8'"
      ]
     },
     "execution_count": 52,
     "metadata": {},
     "output_type": "execute_result"
    }
   ],
   "source": [
    "format(2571992,'x')"
   ]
  },
  {
   "cell_type": "code",
   "execution_count": null,
   "id": "004d31bc",
   "metadata": {},
   "outputs": [],
   "source": []
  },
  {
   "cell_type": "code",
   "execution_count": 53,
   "id": "8fce29ad",
   "metadata": {},
   "outputs": [
    {
     "data": {
      "text/plain": [
       "22176.0"
      ]
     },
     "execution_count": 53,
     "metadata": {},
     "output_type": "execute_result"
    }
   ],
   "source": [
    "# 2. \n",
    "r = 84\n",
    "area = (22/7)*r**2\n",
    "area"
   ]
  },
  {
   "cell_type": "code",
   "execution_count": null,
   "id": "8e14d620",
   "metadata": {},
   "outputs": [],
   "source": []
  },
  {
   "cell_type": "markdown",
   "id": "9a8673e7",
   "metadata": {},
   "source": [
    "Q3. If you cross a 490-meter-long street in 7 minutes, then what is your speed in meters per second? \n",
    "Print your answer without any decimal point in it."
   ]
  },
  {
   "cell_type": "code",
   "execution_count": 55,
   "id": "38ea575a",
   "metadata": {},
   "outputs": [
    {
     "name": "stdout",
     "output_type": "stream",
     "text": [
      "1\n"
     ]
    }
   ],
   "source": [
    "distance = 490\n",
    "time = 7*60\n",
    "speed = distance/time\n",
    "print(round(speed))"
   ]
  },
  {
   "cell_type": "code",
   "execution_count": null,
   "id": "5e132136",
   "metadata": {},
   "outputs": [],
   "source": []
  },
  {
   "cell_type": "markdown",
   "id": "8cabe070",
   "metadata": {},
   "source": []
  },
  {
   "cell_type": "code",
   "execution_count": null,
   "id": "6a22f493",
   "metadata": {},
   "outputs": [],
   "source": []
  },
  {
   "cell_type": "code",
   "execution_count": null,
   "id": "b25f1335",
   "metadata": {},
   "outputs": [],
   "source": []
  },
  {
   "cell_type": "code",
   "execution_count": null,
   "id": "c37f6783",
   "metadata": {},
   "outputs": [],
   "source": []
  },
  {
   "cell_type": "code",
   "execution_count": null,
   "id": "93d3f75c",
   "metadata": {},
   "outputs": [],
   "source": []
  },
  {
   "cell_type": "code",
   "execution_count": null,
   "id": "dbb2cc15",
   "metadata": {},
   "outputs": [],
   "source": []
  },
  {
   "cell_type": "code",
   "execution_count": null,
   "id": "6e4d5e89",
   "metadata": {},
   "outputs": [],
   "source": []
  },
  {
   "cell_type": "code",
   "execution_count": 24,
   "id": "2d5eb19a",
   "metadata": {},
   "outputs": [],
   "source": [
    "string = \"ankita roy\""
   ]
  },
  {
   "cell_type": "code",
   "execution_count": 25,
   "id": "fd385fd3",
   "metadata": {},
   "outputs": [
    {
     "data": {
      "text/plain": [
       "'Ankita roy'"
      ]
     },
     "execution_count": 25,
     "metadata": {},
     "output_type": "execute_result"
    }
   ],
   "source": [
    "string.capitalize()"
   ]
  },
  {
   "cell_type": "code",
   "execution_count": 26,
   "id": "7dc40609",
   "metadata": {},
   "outputs": [
    {
     "data": {
      "text/plain": [
       "'Ankita Roy'"
      ]
     },
     "execution_count": 26,
     "metadata": {},
     "output_type": "execute_result"
    }
   ],
   "source": [
    "string.title()"
   ]
  },
  {
   "cell_type": "code",
   "execution_count": 27,
   "id": "6123f450",
   "metadata": {},
   "outputs": [
    {
     "data": {
      "text/plain": [
       "'ANKITA ROY'"
      ]
     },
     "execution_count": 27,
     "metadata": {},
     "output_type": "execute_result"
    }
   ],
   "source": [
    "string.upper()"
   ]
  },
  {
   "cell_type": "code",
   "execution_count": 28,
   "id": "86cc93e4",
   "metadata": {},
   "outputs": [
    {
     "data": {
      "text/plain": [
       "'Ankita roy'"
      ]
     },
     "execution_count": 28,
     "metadata": {},
     "output_type": "execute_result"
    }
   ],
   "source": [
    "\"aNkiTa RoY\".capitalize()"
   ]
  },
  {
   "cell_type": "code",
   "execution_count": null,
   "id": "b07dcf4c",
   "metadata": {},
   "outputs": [],
   "source": []
  }
 ],
 "metadata": {
  "kernelspec": {
   "display_name": "Python 3",
   "language": "python",
   "name": "python3"
  },
  "language_info": {
   "codemirror_mode": {
    "name": "ipython",
    "version": 3
   },
   "file_extension": ".py",
   "mimetype": "text/x-python",
   "name": "python",
   "nbconvert_exporter": "python",
   "pygments_lexer": "ipython3",
   "version": "3.6.12"
  }
 },
 "nbformat": 4,
 "nbformat_minor": 5
}
