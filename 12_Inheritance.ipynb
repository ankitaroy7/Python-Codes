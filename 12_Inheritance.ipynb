{
 "cells": [
  {
   "cell_type": "markdown",
   "id": "fa006bc1",
   "metadata": {},
   "source": [
    "<b><u>Inheritance</b>"
   ]
  },
  {
   "cell_type": "markdown",
   "id": "dd39fbef",
   "metadata": {},
   "source": [
    "Inheritance allows you to solve the problem of code duplication <br>\n",
    "class Player represents some of the common properties and methods<br> \n",
    "There is <u>derived class</u> <mark>CricketPlayer</mark>, <mark>TennisPlayer</mark> which will be derived from the <mark>Player class</mark> and those classes can have specific properties and methods that belong to CricketPlayer/TennisPlayer<br>\n",
    "\n",
    "<b>Parent class and Child class</b>"
   ]
  },
  {
   "cell_type": "code",
   "execution_count": 17,
   "id": "cc89ca42",
   "metadata": {},
   "outputs": [],
   "source": [
    "import datetime"
   ]
  },
  {
   "cell_type": "markdown",
   "id": "1cd39a7f",
   "metadata": {},
   "source": [
    "<u>Parent Class</u>"
   ]
  },
  {
   "cell_type": "code",
   "execution_count": 8,
   "id": "46dee507",
   "metadata": {},
   "outputs": [],
   "source": [
    "class Player:\n",
    "    def __init__(self, fname, lname, birth_year):\n",
    "        self.first_name = fname\n",
    "        self.last_name = lname\n",
    "        self.birth_year = birth_year\n",
    "            \n",
    "    def get_age(self):\n",
    "        now = datetime.datetime.now()\n",
    "        return now.year - self.birth_year"
   ]
  },
  {
   "cell_type": "markdown",
   "id": "5ddcc1bb",
   "metadata": {},
   "source": [
    "<u>Child Classes</u>"
   ]
  },
  {
   "cell_type": "code",
   "execution_count": 22,
   "id": "b28a7e1c",
   "metadata": {},
   "outputs": [],
   "source": [
    "class CricketPlayer(Player):\n",
    "    def __init__(self,fname, lname, birth_year,team):\n",
    "        Player.__init__(self, fname, lname, birth_year)\n",
    "        self.team = team\n",
    "        self.scores = []\n",
    "        \n",
    "    def add_score(self, score):\n",
    "        self.scores.append(score)\n",
    "        \n",
    "    def get_average_score(self):\n",
    "        return round(sum(self.scores)/len(self.scores),2)"
   ]
  },
  {
   "cell_type": "code",
   "execution_count": 27,
   "id": "ec744e95",
   "metadata": {},
   "outputs": [],
   "source": [
    "class TennisPlayer(Player):\n",
    "    def __init__(self,fname, lname, birth_year, gwinner):\n",
    "        Player.__init__(self, fname, lname, birth_year)\n",
    "        self.grand_slam_winner = gwinner\n",
    "        self.aces = []\n",
    "        \n",
    "    def get_average_aces_per_match(self):\n",
    "        return round(sum(self.aces)/len(self.aces),2)\n",
    "    "
   ]
  },
  {
   "cell_type": "code",
   "execution_count": null,
   "id": "beef6da2",
   "metadata": {},
   "outputs": [],
   "source": []
  },
  {
   "cell_type": "markdown",
   "id": "c23dd879",
   "metadata": {},
   "source": [
    "***CricketPlayer***"
   ]
  },
  {
   "cell_type": "code",
   "execution_count": 23,
   "id": "4cf0a2c5",
   "metadata": {},
   "outputs": [],
   "source": [
    "virat = CricketPlayer('virat','kohli',1988,'india')"
   ]
  },
  {
   "cell_type": "code",
   "execution_count": 24,
   "id": "4c6abe23",
   "metadata": {},
   "outputs": [],
   "source": [
    "virat.add_score(37)\n",
    "virat.add_score(23)\n",
    "virat.add_score(85)"
   ]
  },
  {
   "cell_type": "code",
   "execution_count": 25,
   "id": "d0eb89c0",
   "metadata": {},
   "outputs": [
    {
     "name": "stdout",
     "output_type": "stream",
     "text": [
      "virat's age = 36\n",
      "virat's average score = 48.33\n"
     ]
    }
   ],
   "source": [
    "print(f\"{virat.first_name}'s age = {virat.get_age()}\")\n",
    "print(f\"{virat.first_name}'s average score = {virat.get_average_score()}\")"
   ]
  },
  {
   "cell_type": "code",
   "execution_count": null,
   "id": "241a8cd1",
   "metadata": {},
   "outputs": [],
   "source": []
  },
  {
   "cell_type": "markdown",
   "id": "63332348",
   "metadata": {},
   "source": [
    "***TennisPlayer***"
   ]
  },
  {
   "cell_type": "code",
   "execution_count": 35,
   "id": "267bf105",
   "metadata": {},
   "outputs": [],
   "source": [
    "djokovic = TennisPlayer('Novak','Djokovic',1987,24)"
   ]
  },
  {
   "cell_type": "code",
   "execution_count": 36,
   "id": "f2afc515",
   "metadata": {},
   "outputs": [
    {
     "name": "stdout",
     "output_type": "stream",
     "text": [
      "Novak's age is 37 years\n"
     ]
    }
   ],
   "source": [
    "print(f\"{djokovic.first_name}'s age is {djokovic.get_age()} years\")"
   ]
  },
  {
   "cell_type": "code",
   "execution_count": null,
   "id": "b5ed24ca",
   "metadata": {},
   "outputs": [],
   "source": []
  }
 ],
 "metadata": {
  "kernelspec": {
   "display_name": "Python 3",
   "language": "python",
   "name": "python3"
  },
  "language_info": {
   "codemirror_mode": {
    "name": "ipython",
    "version": 3
   },
   "file_extension": ".py",
   "mimetype": "text/x-python",
   "name": "python",
   "nbconvert_exporter": "python",
   "pygments_lexer": "ipython3",
   "version": "3.6.12"
  }
 },
 "nbformat": 4,
 "nbformat_minor": 5
}
