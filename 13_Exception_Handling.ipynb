{
 "cells": [
  {
   "cell_type": "markdown",
   "id": "a4b6d824",
   "metadata": {},
   "source": [
    "### 13. <u>Exception Handling</u>"
   ]
  },
  {
   "cell_type": "code",
   "execution_count": 1,
   "id": "d8e2c939",
   "metadata": {},
   "outputs": [
    {
     "ename": "ZeroDivisionError",
     "evalue": "division by zero",
     "output_type": "error",
     "traceback": [
      "\u001b[0;31m---------------------------------------------------------------------------\u001b[0m",
      "\u001b[0;31mZeroDivisionError\u001b[0m                         Traceback (most recent call last)",
      "\u001b[0;32m<ipython-input-1-9e1622b385b6>\u001b[0m in \u001b[0;36m<module>\u001b[0;34m\u001b[0m\n\u001b[0;32m----> 1\u001b[0;31m \u001b[0;36m1\u001b[0m\u001b[0;34m/\u001b[0m\u001b[0;36m0\u001b[0m\u001b[0;34m\u001b[0m\u001b[0;34m\u001b[0m\u001b[0m\n\u001b[0m",
      "\u001b[0;31mZeroDivisionError\u001b[0m: division by zero"
     ]
    }
   ],
   "source": [
    "# ZeroDivisionError\n",
    "1/0"
   ]
  },
  {
   "cell_type": "code",
   "execution_count": 2,
   "id": "74c5bfea",
   "metadata": {},
   "outputs": [
    {
     "data": {
      "text/plain": [
       "'Hii, how are you doing?'"
      ]
     },
     "execution_count": 2,
     "metadata": {},
     "output_type": "execute_result"
    }
   ],
   "source": [
    "'Hii,'+' how are you doing?'"
   ]
  },
  {
   "cell_type": "code",
   "execution_count": 3,
   "id": "805100f3",
   "metadata": {},
   "outputs": [
    {
     "ename": "TypeError",
     "evalue": "must be str, not int",
     "output_type": "error",
     "traceback": [
      "\u001b[0;31m---------------------------------------------------------------------------\u001b[0m",
      "\u001b[0;31mTypeError\u001b[0m                                 Traceback (most recent call last)",
      "\u001b[0;32m<ipython-input-3-aa5683501c4c>\u001b[0m in \u001b[0;36m<module>\u001b[0;34m\u001b[0m\n\u001b[0;32m----> 1\u001b[0;31m \u001b[0;34m'ankita'\u001b[0m \u001b[0;34m+\u001b[0m \u001b[0;36m25\u001b[0m\u001b[0;34m\u001b[0m\u001b[0;34m\u001b[0m\u001b[0m\n\u001b[0m",
      "\u001b[0;31mTypeError\u001b[0m: must be str, not int"
     ]
    }
   ],
   "source": [
    "# TypeError\n",
    "'ankita' + 25"
   ]
  },
  {
   "cell_type": "code",
   "execution_count": null,
   "id": "8f2b654e",
   "metadata": {},
   "outputs": [],
   "source": []
  },
  {
   "cell_type": "code",
   "execution_count": 9,
   "id": "ea06709a",
   "metadata": {},
   "outputs": [
    {
     "name": "stdin",
     "output_type": "stream",
     "text": [
      "Enter number 1: 25\n",
      "Enter number 2: 5\n"
     ]
    },
    {
     "name": "stdout",
     "output_type": "stream",
     "text": [
      "-> division is 5.0\n"
     ]
    }
   ],
   "source": [
    "x = input(\"Enter number 1:\")\n",
    "y = input(\"Enter number 2:\")\n",
    "\n",
    "z = int(x)/int(y)\n",
    "\n",
    "print(\"-> division is\", z)\n"
   ]
  },
  {
   "cell_type": "code",
   "execution_count": null,
   "id": "d1e64824",
   "metadata": {},
   "outputs": [],
   "source": []
  },
  {
   "cell_type": "markdown",
   "id": "8545c5ff",
   "metadata": {},
   "source": [
    "##### <b><i>Case I</b>"
   ]
  },
  {
   "cell_type": "code",
   "execution_count": 17,
   "id": "c4cb5f4c",
   "metadata": {},
   "outputs": [
    {
     "name": "stdin",
     "output_type": "stream",
     "text": [
      "Enter number 1: 7\n",
      "Enter number 2: 0\n"
     ]
    },
    {
     "name": "stdout",
     "output_type": "stream",
     "text": [
      "Exception occured: division by zero\n",
      "division is: 0\n"
     ]
    }
   ],
   "source": [
    "x = input(\"Enter number 1:\")\n",
    "y = input(\"Enter number 2:\")\n",
    "\n",
    "\n",
    "\n",
    "try:\n",
    "    z = int(x)/int(y)\n",
    "    \n",
    "except Exception as e:\n",
    "    print(\"Exception occured:\",e)\n",
    "    z = 0\n",
    "    \n",
    "print(\"division is:\",z)"
   ]
  },
  {
   "cell_type": "code",
   "execution_count": null,
   "id": "e2a00d83",
   "metadata": {},
   "outputs": [],
   "source": []
  },
  {
   "cell_type": "markdown",
   "id": "e1a23ec5",
   "metadata": {},
   "source": [
    "##### <b><i>Case II</b>"
   ]
  },
  {
   "cell_type": "markdown",
   "id": "faccfcae",
   "metadata": {},
   "source": [
    "Recommended practice: to handle specific exceptions"
   ]
  },
  {
   "cell_type": "code",
   "execution_count": 20,
   "id": "1c681b6f",
   "metadata": {},
   "outputs": [
    {
     "name": "stdin",
     "output_type": "stream",
     "text": [
      "Enter number 1: 7\n",
      "Enter number 2: 0\n"
     ]
    },
    {
     "name": "stdout",
     "output_type": "stream",
     "text": [
      "Exception occured: division by zero\n",
      "division is: 0\n"
     ]
    }
   ],
   "source": [
    "x = input(\"Enter number 1:\")\n",
    "y = input(\"Enter number 2:\")\n",
    "\n",
    "\n",
    "\n",
    "try:\n",
    "    z = int(x)/int(y)\n",
    "    a = 'baby yoda' + 25\n",
    "    \n",
    "except ZeroDivisionError as e:\n",
    "    print(\"Exception occured:\",e)\n",
    "    z = 0\n",
    "    \n",
    "except TypeError as te:\n",
    "    print(\"Exception occured:\",te)\n",
    "    \n",
    "    \n",
    "print(\"division is:\",z)"
   ]
  },
  {
   "cell_type": "code",
   "execution_count": null,
   "id": "0890d91b",
   "metadata": {},
   "outputs": [],
   "source": []
  },
  {
   "cell_type": "markdown",
   "id": "4ab1a984",
   "metadata": {},
   "source": [
    "##### <b><i>Case III</b>"
   ]
  },
  {
   "cell_type": "markdown",
   "id": "6ad0c7b1",
   "metadata": {},
   "source": [
    "Generic Exception Handling"
   ]
  },
  {
   "cell_type": "code",
   "execution_count": 7,
   "id": "8a0847f7",
   "metadata": {},
   "outputs": [
    {
     "name": "stdin",
     "output_type": "stream",
     "text": [
      "Enter number 1: 5\n",
      "Enter number 2: 6\n"
     ]
    },
    {
     "name": "stdout",
     "output_type": "stream",
     "text": [
      "generic exception handling: 'int' object has no attribute 'append'\n",
      "division is: 0.8333333333333334\n"
     ]
    }
   ],
   "source": [
    "x = input(\"Enter number 1:\")\n",
    "y = input(\"Enter number 2:\")\n",
    "\n",
    "\n",
    "\n",
    "try:\n",
    "    z = int(x)/int(y)\n",
    "    a = 'baby yoda'\n",
    "    b = 123\n",
    "    b.append(1)\n",
    "    \n",
    "except ZeroDivisionError as e:\n",
    "    print(\"Exception occured:\",e)\n",
    "    z = 0\n",
    "    \n",
    "except TypeError as te:\n",
    "    print(\"Exception occured:\",te)\n",
    "\n",
    "except Exception as e:\n",
    "    print(\"generic exception handling:\",e)\n",
    "    \n",
    "print(\"division is:\",z)"
   ]
  },
  {
   "cell_type": "code",
   "execution_count": null,
   "id": "9fc018c7",
   "metadata": {},
   "outputs": [],
   "source": []
  },
  {
   "cell_type": "markdown",
   "id": "4480197e",
   "metadata": {},
   "source": [
    "built-in exceptions and custom exceptions: <br>\n",
    "https://docs.python.org/3/tutorial/errors.html"
   ]
  }
 ],
 "metadata": {
  "kernelspec": {
   "display_name": "Python 3",
   "language": "python",
   "name": "python3"
  },
  "language_info": {
   "codemirror_mode": {
    "name": "ipython",
    "version": 3
   },
   "file_extension": ".py",
   "mimetype": "text/x-python",
   "name": "python",
   "nbconvert_exporter": "python",
   "pygments_lexer": "ipython3",
   "version": "3.6.12"
  }
 },
 "nbformat": 4,
 "nbformat_minor": 5
}
