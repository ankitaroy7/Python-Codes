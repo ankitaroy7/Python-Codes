{
 "cells": [
  {
   "cell_type": "code",
   "execution_count": 1,
   "id": "e8c319bc",
   "metadata": {},
   "outputs": [],
   "source": [
    "can = \"soda\""
   ]
  },
  {
   "cell_type": "code",
   "execution_count": 2,
   "id": "da2a4486",
   "metadata": {},
   "outputs": [
    {
     "data": {
      "text/plain": [
       "'soda'"
      ]
     },
     "execution_count": 2,
     "metadata": {},
     "output_type": "execute_result"
    }
   ],
   "source": [
    "can"
   ]
  },
  {
   "cell_type": "code",
   "execution_count": 3,
   "id": "ec99dcad",
   "metadata": {},
   "outputs": [],
   "source": [
    "can = \"beans\""
   ]
  },
  {
   "cell_type": "code",
   "execution_count": 4,
   "id": "2c2dd3ba",
   "metadata": {},
   "outputs": [
    {
     "data": {
      "text/plain": [
       "'beans'"
      ]
     },
     "execution_count": 4,
     "metadata": {},
     "output_type": "execute_result"
    }
   ],
   "source": [
    "can"
   ]
  },
  {
   "cell_type": "code",
   "execution_count": 5,
   "id": "e0def17c",
   "metadata": {},
   "outputs": [
    {
     "data": {
      "text/plain": [
       "str"
      ]
     },
     "execution_count": 5,
     "metadata": {},
     "output_type": "execute_result"
    }
   ],
   "source": [
    "type(can)"
   ]
  },
  {
   "cell_type": "code",
   "execution_count": 7,
   "id": "ec0b0d5a",
   "metadata": {},
   "outputs": [],
   "source": [
    "first_name = \"ankita\"\n",
    "last_name = \"roy\""
   ]
  },
  {
   "cell_type": "code",
   "execution_count": 8,
   "id": "e583987d",
   "metadata": {},
   "outputs": [
    {
     "data": {
      "text/plain": [
       "'ankita'"
      ]
     },
     "execution_count": 8,
     "metadata": {},
     "output_type": "execute_result"
    }
   ],
   "source": [
    "first_name"
   ]
  },
  {
   "cell_type": "code",
   "execution_count": 9,
   "id": "200b5e93",
   "metadata": {},
   "outputs": [
    {
     "data": {
      "text/plain": [
       "str"
      ]
     },
     "execution_count": 9,
     "metadata": {},
     "output_type": "execute_result"
    }
   ],
   "source": [
    "type(first_name)"
   ]
  },
  {
   "cell_type": "code",
   "execution_count": 10,
   "id": "d5548afa",
   "metadata": {},
   "outputs": [],
   "source": [
    "# strings and numbers"
   ]
  },
  {
   "cell_type": "code",
   "execution_count": 11,
   "id": "da7b5ea5",
   "metadata": {},
   "outputs": [
    {
     "data": {
      "text/plain": [
       "100"
      ]
     },
     "execution_count": 11,
     "metadata": {},
     "output_type": "execute_result"
    }
   ],
   "source": [
    "pizza = 100\n",
    "pizza"
   ]
  },
  {
   "cell_type": "code",
   "execution_count": 12,
   "id": "504ee846",
   "metadata": {},
   "outputs": [
    {
     "data": {
      "text/plain": [
       "int"
      ]
     },
     "execution_count": 12,
     "metadata": {},
     "output_type": "execute_result"
    }
   ],
   "source": [
    "type(pizza)"
   ]
  },
  {
   "cell_type": "code",
   "execution_count": 13,
   "id": "0915b934",
   "metadata": {},
   "outputs": [],
   "source": [
    "samosa = 20.5"
   ]
  },
  {
   "cell_type": "code",
   "execution_count": 15,
   "id": "131d6b0d",
   "metadata": {},
   "outputs": [
    {
     "data": {
      "text/plain": [
       "20.5"
      ]
     },
     "execution_count": 15,
     "metadata": {},
     "output_type": "execute_result"
    }
   ],
   "source": [
    "samosa"
   ]
  },
  {
   "cell_type": "code",
   "execution_count": 14,
   "id": "ea9d2c55",
   "metadata": {},
   "outputs": [
    {
     "data": {
      "text/plain": [
       "float"
      ]
     },
     "execution_count": 14,
     "metadata": {},
     "output_type": "execute_result"
    }
   ],
   "source": [
    "type(samosa)"
   ]
  },
  {
   "cell_type": "code",
   "execution_count": 16,
   "id": "f8e87de1",
   "metadata": {},
   "outputs": [],
   "source": [
    "ice_cream = 40"
   ]
  },
  {
   "cell_type": "code",
   "execution_count": 17,
   "id": "3121cfeb",
   "metadata": {},
   "outputs": [
    {
     "data": {
      "text/plain": [
       "40"
      ]
     },
     "execution_count": 17,
     "metadata": {},
     "output_type": "execute_result"
    }
   ],
   "source": [
    "ice_cream"
   ]
  },
  {
   "cell_type": "code",
   "execution_count": 24,
   "id": "82b94428",
   "metadata": {},
   "outputs": [
    {
     "data": {
      "text/plain": [
       "160.5"
      ]
     },
     "execution_count": 24,
     "metadata": {},
     "output_type": "execute_result"
    }
   ],
   "source": [
    "total = pizza + samosa + ice_cream\n",
    "total"
   ]
  },
  {
   "cell_type": "code",
   "execution_count": 20,
   "id": "53402717",
   "metadata": {},
   "outputs": [
    {
     "data": {
      "text/plain": [
       "float"
      ]
     },
     "execution_count": 20,
     "metadata": {},
     "output_type": "execute_result"
    }
   ],
   "source": [
    "type(total)"
   ]
  },
  {
   "cell_type": "code",
   "execution_count": 22,
   "id": "edaec7a6",
   "metadata": {},
   "outputs": [],
   "source": [
    "learn_python = True"
   ]
  },
  {
   "cell_type": "code",
   "execution_count": 23,
   "id": "0cf64f47",
   "metadata": {},
   "outputs": [
    {
     "data": {
      "text/plain": [
       "True"
      ]
     },
     "execution_count": 23,
     "metadata": {},
     "output_type": "execute_result"
    }
   ],
   "source": [
    "learn_python"
   ]
  },
  {
   "cell_type": "code",
   "execution_count": 25,
   "id": "71ccc232",
   "metadata": {},
   "outputs": [
    {
     "data": {
      "text/plain": [
       "bool"
      ]
     },
     "execution_count": 25,
     "metadata": {},
     "output_type": "execute_result"
    }
   ],
   "source": [
    "type(learn_python)"
   ]
  },
  {
   "cell_type": "code",
   "execution_count": null,
   "id": "8500dcf1",
   "metadata": {},
   "outputs": [],
   "source": [
    "# str, int, float, bool"
   ]
  },
  {
   "cell_type": "code",
   "execution_count": 26,
   "id": "dba1c773",
   "metadata": {},
   "outputs": [],
   "source": [
    "lear_fortran = False"
   ]
  },
  {
   "cell_type": "code",
   "execution_count": 27,
   "id": "84dd2f80",
   "metadata": {},
   "outputs": [
    {
     "data": {
      "text/plain": [
       "False"
      ]
     },
     "execution_count": 27,
     "metadata": {},
     "output_type": "execute_result"
    }
   ],
   "source": [
    "lear_fortran"
   ]
  },
  {
   "cell_type": "code",
   "execution_count": 28,
   "id": "083f87fe",
   "metadata": {},
   "outputs": [
    {
     "data": {
      "text/plain": [
       "bool"
      ]
     },
     "execution_count": 28,
     "metadata": {},
     "output_type": "execute_result"
    }
   ],
   "source": [
    "type(lear_fortran)"
   ]
  },
  {
   "cell_type": "code",
   "execution_count": null,
   "id": "3d7d4bbc",
   "metadata": {},
   "outputs": [],
   "source": []
  },
  {
   "cell_type": "code",
   "execution_count": null,
   "id": "074fc853",
   "metadata": {},
   "outputs": [],
   "source": [
    "# In python, everthing is an object.. what does it mean?\n"
   ]
  },
  {
   "cell_type": "code",
   "execution_count": 29,
   "id": "71e98415",
   "metadata": {},
   "outputs": [
    {
     "data": {
      "text/plain": [
       "'jalebi'"
      ]
     },
     "execution_count": 29,
     "metadata": {},
     "output_type": "execute_result"
    }
   ],
   "source": [
    "foo = \"jalebi\"\n",
    "foo"
   ]
  },
  {
   "cell_type": "code",
   "execution_count": 30,
   "id": "f9bb841d",
   "metadata": {},
   "outputs": [
    {
     "data": {
      "text/plain": [
       "'jalebi'"
      ]
     },
     "execution_count": 30,
     "metadata": {},
     "output_type": "execute_result"
    }
   ],
   "source": [
    "bar = foo\n",
    "bar"
   ]
  },
  {
   "cell_type": "code",
   "execution_count": 31,
   "id": "1e0d0b46",
   "metadata": {},
   "outputs": [
    {
     "data": {
      "text/plain": [
       "140074200406872"
      ]
     },
     "execution_count": 31,
     "metadata": {},
     "output_type": "execute_result"
    }
   ],
   "source": [
    "id(foo)"
   ]
  },
  {
   "cell_type": "code",
   "execution_count": 32,
   "id": "b587f8e6",
   "metadata": {},
   "outputs": [
    {
     "data": {
      "text/plain": [
       "140074200406872"
      ]
     },
     "execution_count": 32,
     "metadata": {},
     "output_type": "execute_result"
    }
   ],
   "source": [
    "id(bar)"
   ]
  },
  {
   "cell_type": "code",
   "execution_count": 33,
   "id": "d9eed7ba",
   "metadata": {},
   "outputs": [],
   "source": [
    "bar = \"samosa\""
   ]
  },
  {
   "cell_type": "code",
   "execution_count": 34,
   "id": "20a07a6d",
   "metadata": {},
   "outputs": [
    {
     "data": {
      "text/plain": [
       "'jalebi'"
      ]
     },
     "execution_count": 34,
     "metadata": {},
     "output_type": "execute_result"
    }
   ],
   "source": [
    "foo"
   ]
  },
  {
   "cell_type": "code",
   "execution_count": 35,
   "id": "2120db78",
   "metadata": {},
   "outputs": [
    {
     "data": {
      "text/plain": [
       "140074200405808"
      ]
     },
     "execution_count": 35,
     "metadata": {},
     "output_type": "execute_result"
    }
   ],
   "source": [
    "id(bar)"
   ]
  },
  {
   "cell_type": "code",
   "execution_count": null,
   "id": "3db44d1c",
   "metadata": {},
   "outputs": [],
   "source": [
    "# everthing in python is an object"
   ]
  },
  {
   "cell_type": "code",
   "execution_count": null,
   "id": "8e87a654",
   "metadata": {},
   "outputs": [],
   "source": [
    "# In python, we use snake_case i.e., two words are separated by a '_'"
   ]
  },
  {
   "cell_type": "code",
   "execution_count": null,
   "id": "7c015ea9",
   "metadata": {},
   "outputs": [],
   "source": [
    "# variable namimg rule"
   ]
  },
  {
   "cell_type": "code",
   "execution_count": null,
   "id": "7f89cf57",
   "metadata": {},
   "outputs": [],
   "source": []
  },
  {
   "cell_type": "code",
   "execution_count": null,
   "id": "3575235a",
   "metadata": {},
   "outputs": [],
   "source": []
  },
  {
   "cell_type": "code",
   "execution_count": null,
   "id": "65d35467",
   "metadata": {},
   "outputs": [],
   "source": [
    "# Variable Exercise"
   ]
  },
  {
   "cell_type": "code",
   "execution_count": 36,
   "id": "bfb465cc",
   "metadata": {},
   "outputs": [],
   "source": [
    "pi = 22/7"
   ]
  },
  {
   "cell_type": "code",
   "execution_count": 37,
   "id": "61ec3185",
   "metadata": {},
   "outputs": [
    {
     "data": {
      "text/plain": [
       "3.142857142857143"
      ]
     },
     "execution_count": 37,
     "metadata": {},
     "output_type": "execute_result"
    }
   ],
   "source": [
    "pi\n"
   ]
  },
  {
   "cell_type": "code",
   "execution_count": 38,
   "id": "97a29c25",
   "metadata": {},
   "outputs": [
    {
     "data": {
      "text/plain": [
       "float"
      ]
     },
     "execution_count": 38,
     "metadata": {},
     "output_type": "execute_result"
    }
   ],
   "source": [
    "type(pi)"
   ]
  },
  {
   "cell_type": "code",
   "execution_count": 39,
   "id": "61091932",
   "metadata": {},
   "outputs": [
    {
     "ename": "SyntaxError",
     "evalue": "invalid syntax (<ipython-input-39-7b12443457ee>, line 1)",
     "output_type": "error",
     "traceback": [
      "\u001b[0;36m  File \u001b[0;32m\"<ipython-input-39-7b12443457ee>\"\u001b[0;36m, line \u001b[0;32m1\u001b[0m\n\u001b[0;31m    for = 4\u001b[0m\n\u001b[0m        ^\u001b[0m\n\u001b[0;31mSyntaxError\u001b[0m\u001b[0;31m:\u001b[0m invalid syntax\n"
     ]
    }
   ],
   "source": [
    "for = 4"
   ]
  },
  {
   "cell_type": "code",
   "execution_count": 40,
   "id": "4afaeb18",
   "metadata": {},
   "outputs": [],
   "source": [
    "p = 10000\n",
    "r = 5\n",
    "t = 3"
   ]
  },
  {
   "cell_type": "code",
   "execution_count": 41,
   "id": "46358bdb",
   "metadata": {},
   "outputs": [
    {
     "data": {
      "text/plain": [
       "1500.0"
      ]
     },
     "execution_count": 41,
     "metadata": {},
     "output_type": "execute_result"
    }
   ],
   "source": [
    "simple_interest = p*r*t/100\n",
    "simple_interest"
   ]
  },
  {
   "cell_type": "code",
   "execution_count": null,
   "id": "6f9d62fa",
   "metadata": {},
   "outputs": [],
   "source": []
  }
 ],
 "metadata": {
  "kernelspec": {
   "display_name": "Python 3",
   "language": "python",
   "name": "python3"
  },
  "language_info": {
   "codemirror_mode": {
    "name": "ipython",
    "version": 3
   },
   "file_extension": ".py",
   "mimetype": "text/x-python",
   "name": "python",
   "nbconvert_exporter": "python",
   "pygments_lexer": "ipython3",
   "version": "3.6.12"
  }
 },
 "nbformat": 4,
 "nbformat_minor": 5
}
