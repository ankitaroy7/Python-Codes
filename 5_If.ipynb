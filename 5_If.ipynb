{
 "cells": [
  {
   "cell_type": "markdown",
   "id": "29c69a33",
   "metadata": {},
   "source": [
    "<h3 style=\"color:black\"; style=\"font-size:20px\"><b>If</b></h3>"
   ]
  },
  {
   "cell_type": "markdown",
   "id": "29f59a91",
   "metadata": {},
   "source": [
    "<h3 style=\"color:orange; font-size:15px\">If</h3>"
   ]
  },
  {
   "cell_type": "markdown",
   "id": "40cba80b",
   "metadata": {},
   "source": [
    "<h3 style=\"color:brown; font-size:25px\">Ankita Roy</h3>"
   ]
  },
  {
   "cell_type": "markdown",
   "id": "40ddb7c4",
   "metadata": {},
   "source": [
    "<h3 style=\"color:blue; font-size:15px\">Hi, I'm learning Python...</h3>"
   ]
  },
  {
   "cell_type": "code",
   "execution_count": null,
   "id": "0c0297ed",
   "metadata": {},
   "outputs": [],
   "source": []
  },
  {
   "cell_type": "code",
   "execution_count": null,
   "id": "75e2ce02",
   "metadata": {},
   "outputs": [],
   "source": [
    "# IDE: Integrated Development Environment"
   ]
  },
  {
   "cell_type": "code",
   "execution_count": null,
   "id": "edd9c078",
   "metadata": {},
   "outputs": [],
   "source": [
    "# Pycharm : IDE"
   ]
  },
  {
   "cell_type": "code",
   "execution_count": null,
   "id": "f6d486d2",
   "metadata": {},
   "outputs": [],
   "source": []
  },
  {
   "cell_type": "code",
   "execution_count": 1,
   "id": "864e0e82",
   "metadata": {},
   "outputs": [
    {
     "data": {
      "text/plain": [
       "True"
      ]
     },
     "execution_count": 1,
     "metadata": {},
     "output_type": "execute_result"
    }
   ],
   "source": [
    "\"ankita\" in \"my name is ankita roy\""
   ]
  },
  {
   "cell_type": "code",
   "execution_count": 3,
   "id": "ed78f9c6",
   "metadata": {},
   "outputs": [],
   "source": [
    "name = [\"ankita\", \"atulya\", \"ankur\", \"neha\"]"
   ]
  },
  {
   "cell_type": "code",
   "execution_count": 4,
   "id": "0692bf91",
   "metadata": {},
   "outputs": [
    {
     "data": {
      "text/plain": [
       "True"
      ]
     },
     "execution_count": 4,
     "metadata": {},
     "output_type": "execute_result"
    }
   ],
   "source": [
    "\"neha\" in name"
   ]
  },
  {
   "cell_type": "code",
   "execution_count": 5,
   "id": "1fd925b9",
   "metadata": {},
   "outputs": [
    {
     "name": "stdout",
     "output_type": "stream",
     "text": [
      "yes\n"
     ]
    }
   ],
   "source": [
    "print(\"yes\") if \"ankita\" in name else print(\"No\")"
   ]
  },
  {
   "cell_type": "code",
   "execution_count": 6,
   "id": "e3996f1f",
   "metadata": {},
   "outputs": [
    {
     "name": "stdout",
     "output_type": "stream",
     "text": [
      "No\n"
     ]
    }
   ],
   "source": [
    "print(\"yes\") if \"roy\" in name else print(\"No\")"
   ]
  },
  {
   "cell_type": "code",
   "execution_count": null,
   "id": "c6780cbc",
   "metadata": {},
   "outputs": [],
   "source": []
  },
  {
   "cell_type": "code",
   "execution_count": 7,
   "id": "7cb6a934",
   "metadata": {},
   "outputs": [
    {
     "data": {
      "text/plain": [
       "range(0, 5)"
      ]
     },
     "execution_count": 7,
     "metadata": {},
     "output_type": "execute_result"
    }
   ],
   "source": [
    "range(5)"
   ]
  },
  {
   "cell_type": "code",
   "execution_count": 8,
   "id": "b6cfaccb",
   "metadata": {},
   "outputs": [
    {
     "data": {
      "text/plain": [
       "[0, 1, 2, 3, 4]"
      ]
     },
     "execution_count": 8,
     "metadata": {},
     "output_type": "execute_result"
    }
   ],
   "source": [
    "list(range(5))"
   ]
  },
  {
   "cell_type": "code",
   "execution_count": null,
   "id": "d9270ed6",
   "metadata": {},
   "outputs": [],
   "source": []
  },
  {
   "cell_type": "code",
   "execution_count": 9,
   "id": "780c611a",
   "metadata": {},
   "outputs": [],
   "source": [
    "expenses = [1230, 2500, 450, 300, 600]"
   ]
  },
  {
   "cell_type": "code",
   "execution_count": 14,
   "id": "5ea3b3dc",
   "metadata": {},
   "outputs": [
    {
     "name": "stdout",
     "output_type": "stream",
     "text": [
      "Month 1: Expenses = 1230\n",
      "Month 2: Expenses = 2500\n",
      "Month 3: Expenses = 450\n",
      "Month 4: Expenses = 300\n",
      "Month 5: Expenses = 600\n",
      "\n",
      "The total expenditure is: 5080\n"
     ]
    }
   ],
   "source": [
    "total_expense = 0\n",
    "for i in range(len(expenses)):\n",
    "    print(f\"Month {i+1}: Expenses = {expenses[i]}\")\n",
    "    total_expense += expenses[i]\n",
    "    \n",
    "print(f\"\\nThe total expenditure is: {total_expense}\")\n",
    "    "
   ]
  },
  {
   "cell_type": "code",
   "execution_count": null,
   "id": "209933c5",
   "metadata": {},
   "outputs": [],
   "source": []
  },
  {
   "cell_type": "code",
   "execution_count": 21,
   "id": "46dedf54",
   "metadata": {},
   "outputs": [
    {
     "name": "stdout",
     "output_type": "stream",
     "text": [
      "Month 1 - 1230\n",
      "Month 2 - 2500\n",
      "Month 3 - 450\n",
      "Month 4 - 300\n",
      "Month 5 - 600\n"
     ]
    }
   ],
   "source": [
    "for i in range(len(expenses)):\n",
    "    print(\"Month\",i+1, end = \" - \")\n",
    "    print(f\"{expenses[i]}\")"
   ]
  },
  {
   "cell_type": "code",
   "execution_count": null,
   "id": "f25851d8",
   "metadata": {},
   "outputs": [],
   "source": []
  },
  {
   "cell_type": "markdown",
   "id": "4dc34646",
   "metadata": {},
   "source": [
    "Q1. Write a Python program to print the following pattern.\n",
    "- 1 2 3 4 5\n",
    "- 1 2 3 4\n",
    "- 1 2 3\n",
    "- 1 2 \n",
    "- 1"
   ]
  },
  {
   "cell_type": "code",
   "execution_count": null,
   "id": "daaa3cc0",
   "metadata": {},
   "outputs": [],
   "source": [
    "# Method 1: using while loop"
   ]
  },
  {
   "cell_type": "code",
   "execution_count": 32,
   "id": "0f524d23",
   "metadata": {},
   "outputs": [
    {
     "name": "stdin",
     "output_type": "stream",
     "text": [
      "enter a number: 7\n"
     ]
    },
    {
     "name": "stdout",
     "output_type": "stream",
     "text": [
      "1 2 3 4 5 6 7 \n",
      "1 2 3 4 5 6 \n",
      "1 2 3 4 5 \n",
      "1 2 3 4 \n",
      "1 2 3 \n",
      "1 2 \n",
      "1 \n"
     ]
    }
   ],
   "source": [
    "n = int(input(\"enter a number:\"))\n",
    "i = 1\n",
    "m = n\n",
    "\n",
    "while i <= n:\n",
    "    j = 1\n",
    "    \n",
    "    while j <= m:\n",
    "        print(j,end=\" \")\n",
    "        j += 1\n",
    "        \n",
    "    print()    \n",
    "    i += 1\n",
    "    m = m - 1\n"
   ]
  },
  {
   "cell_type": "code",
   "execution_count": null,
   "id": "93351fca",
   "metadata": {},
   "outputs": [],
   "source": [
    "# Method 2: Using For Loop"
   ]
  },
  {
   "cell_type": "code",
   "execution_count": null,
   "id": "31ebb269",
   "metadata": {},
   "outputs": [],
   "source": []
  },
  {
   "cell_type": "code",
   "execution_count": null,
   "id": "aaa86181",
   "metadata": {},
   "outputs": [],
   "source": []
  },
  {
   "cell_type": "markdown",
   "id": "28c135f6",
   "metadata": {},
   "source": [
    "Q2. Write a Python program to find the sum of all the numbers except odd numbers between 1 and 20 using a loop. Can you also do this using a while loop?"
   ]
  },
  {
   "cell_type": "code",
   "execution_count": null,
   "id": "86b0c9a7",
   "metadata": {},
   "outputs": [],
   "source": [
    "# Method 1:"
   ]
  },
  {
   "cell_type": "code",
   "execution_count": 33,
   "id": "ccf49da8",
   "metadata": {},
   "outputs": [
    {
     "name": "stdout",
     "output_type": "stream",
     "text": [
      "110\n"
     ]
    }
   ],
   "source": [
    "sum_even = 0\n",
    "for i in range(1,21):\n",
    "    if i % 2 != 0:\n",
    "        continue\n",
    "    sum_even += i\n",
    "    \n",
    "print(sum_even)"
   ]
  },
  {
   "cell_type": "code",
   "execution_count": 35,
   "id": "46baf0b2",
   "metadata": {},
   "outputs": [
    {
     "data": {
      "text/plain": [
       "110"
      ]
     },
     "execution_count": 35,
     "metadata": {},
     "output_type": "execute_result"
    }
   ],
   "source": [
    "2+4+6+8+10+12+14+16+18+20"
   ]
  },
  {
   "cell_type": "code",
   "execution_count": null,
   "id": "c1997fb9",
   "metadata": {},
   "outputs": [],
   "source": []
  },
  {
   "cell_type": "code",
   "execution_count": null,
   "id": "4d84f534",
   "metadata": {},
   "outputs": [],
   "source": [
    "# Method 2:"
   ]
  },
  {
   "cell_type": "code",
   "execution_count": null,
   "id": "5fad2620",
   "metadata": {},
   "outputs": [],
   "source": []
  }
 ],
 "metadata": {
  "kernelspec": {
   "display_name": "Python 3",
   "language": "python",
   "name": "python3"
  },
  "language_info": {
   "codemirror_mode": {
    "name": "ipython",
    "version": 3
   },
   "file_extension": ".py",
   "mimetype": "text/x-python",
   "name": "python",
   "nbconvert_exporter": "python",
   "pygments_lexer": "ipython3",
   "version": "3.6.12"
  }
 },
 "nbformat": 4,
 "nbformat_minor": 5
}
