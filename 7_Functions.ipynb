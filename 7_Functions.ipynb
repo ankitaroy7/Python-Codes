{
 "cells": [
  {
   "cell_type": "markdown",
   "id": "2a8b113c",
   "metadata": {},
   "source": [
    "# Functions"
   ]
  },
  {
   "cell_type": "code",
   "execution_count": null,
   "id": "51daa8d7",
   "metadata": {},
   "outputs": [],
   "source": [
    "# Functions Documentation:"
   ]
  },
  {
   "cell_type": "code",
   "execution_count": 18,
   "id": "31c26fbd",
   "metadata": {},
   "outputs": [],
   "source": [
    "def sumnum(a,b):\n",
    "    '''\n",
    "    This function takes two inputs\n",
    "    and add them\n",
    "    '''\n",
    "    return a+b"
   ]
  },
  {
   "cell_type": "code",
   "execution_count": 2,
   "id": "c32cf79c",
   "metadata": {},
   "outputs": [
    {
     "data": {
      "text/plain": [
       "3"
      ]
     },
     "execution_count": 2,
     "metadata": {},
     "output_type": "execute_result"
    }
   ],
   "source": [
    "sumnum(1,2)"
   ]
  },
  {
   "cell_type": "code",
   "execution_count": 19,
   "id": "eb0c3cc8",
   "metadata": {},
   "outputs": [
    {
     "name": "stdout",
     "output_type": "stream",
     "text": [
      "Help on function sumnum in module __main__:\n",
      "\n",
      "sumnum(a, b)\n",
      "    This function takes two inputs\n",
      "    and add them\n",
      "\n",
      "None\n"
     ]
    }
   ],
   "source": [
    "print(help(sumnum))"
   ]
  },
  {
   "cell_type": "code",
   "execution_count": 6,
   "id": "8610e72e",
   "metadata": {},
   "outputs": [
    {
     "name": "stdout",
     "output_type": "stream",
     "text": [
      "Help on function sumnum in module __main__:\n",
      "\n",
      "sumnum(a, b)\n",
      "    This function takes two inputs\n",
      "    and add them\n",
      "\n"
     ]
    }
   ],
   "source": [
    "help(sumnum)"
   ]
  },
  {
   "cell_type": "code",
   "execution_count": 11,
   "id": "d61dd959",
   "metadata": {},
   "outputs": [],
   "source": [
    "def sumnum1(a,b):\n",
    "    return a+b"
   ]
  },
  {
   "cell_type": "code",
   "execution_count": 10,
   "id": "84533690",
   "metadata": {},
   "outputs": [
    {
     "name": "stdout",
     "output_type": "stream",
     "text": [
      "Help on function sumnum1 in module __main__:\n",
      "\n",
      "sumnum1(a, b)\n",
      "\n"
     ]
    }
   ],
   "source": [
    "help(sumnum1)"
   ]
  },
  {
   "cell_type": "code",
   "execution_count": 12,
   "id": "819c523f",
   "metadata": {},
   "outputs": [],
   "source": [
    "def sumnum2(a,b):\n",
    "    a+b     "
   ]
  },
  {
   "cell_type": "code",
   "execution_count": 14,
   "id": "b4abcd75",
   "metadata": {},
   "outputs": [],
   "source": [
    "sumnum2(2,3)"
   ]
  },
  {
   "cell_type": "code",
   "execution_count": null,
   "id": "3408a4d2",
   "metadata": {},
   "outputs": [],
   "source": []
  },
  {
   "cell_type": "code",
   "execution_count": null,
   "id": "0296e270",
   "metadata": {},
   "outputs": [],
   "source": []
  },
  {
   "cell_type": "code",
   "execution_count": 15,
   "id": "0386713d",
   "metadata": {},
   "outputs": [],
   "source": [
    "expenses_sergey = [30,45,70,90]\n",
    "expenses_sundar = [40,23,10,85]"
   ]
  },
  {
   "cell_type": "code",
   "execution_count": 16,
   "id": "bfb8088c",
   "metadata": {},
   "outputs": [
    {
     "name": "stdout",
     "output_type": "stream",
     "text": [
      "Total expense for sergey is 235\n"
     ]
    }
   ],
   "source": [
    "total = 0\n",
    "\n",
    "for expense in expenses_sergey:\n",
    "    total += expense\n",
    "print(\"Total expense for sergey is\", total)    "
   ]
  },
  {
   "cell_type": "code",
   "execution_count": 17,
   "id": "37e0372c",
   "metadata": {},
   "outputs": [
    {
     "name": "stdout",
     "output_type": "stream",
     "text": [
      "Total expense for sundar is 158\n"
     ]
    }
   ],
   "source": [
    "total = 0\n",
    "\n",
    "for expense in expenses_sundar:\n",
    "    total += expense\n",
    "print(\"Total expense for sundar is\", total)"
   ]
  },
  {
   "cell_type": "markdown",
   "id": "6fe2cb9c",
   "metadata": {},
   "source": [
    "- Note I have to write the same code again and again for different people\n",
    "- Functions can help in this case"
   ]
  },
  {
   "cell_type": "code",
   "execution_count": null,
   "id": "fcb1bf5a",
   "metadata": {},
   "outputs": [],
   "source": [
    "# Funcctions"
   ]
  },
  {
   "cell_type": "code",
   "execution_count": 3,
   "id": "40ad801b",
   "metadata": {},
   "outputs": [],
   "source": [
    "def find_total(expenses):\n",
    "    ftotal = 0\n",
    "    \n",
    "    for expense in expenses:\n",
    "        ftotal += expense\n",
    "    return ftotal \n",
    "       "
   ]
  },
  {
   "cell_type": "code",
   "execution_count": 26,
   "id": "60c2f080",
   "metadata": {},
   "outputs": [
    {
     "data": {
      "text/plain": [
       "235"
      ]
     },
     "execution_count": 26,
     "metadata": {},
     "output_type": "execute_result"
    }
   ],
   "source": [
    "find_total(expenses_sergey)"
   ]
  },
  {
   "cell_type": "code",
   "execution_count": 27,
   "id": "707248be",
   "metadata": {},
   "outputs": [
    {
     "data": {
      "text/plain": [
       "158"
      ]
     },
     "execution_count": 27,
     "metadata": {},
     "output_type": "execute_result"
    }
   ],
   "source": [
    "find_total(expenses_sundar)"
   ]
  },
  {
   "cell_type": "code",
   "execution_count": 28,
   "id": "e166f7ee",
   "metadata": {},
   "outputs": [
    {
     "ename": "NameError",
     "evalue": "name 'ftotal' is not defined",
     "output_type": "error",
     "traceback": [
      "\u001b[0;31m---------------------------------------------------------------------------\u001b[0m",
      "\u001b[0;31mNameError\u001b[0m                                 Traceback (most recent call last)",
      "\u001b[0;32m<ipython-input-28-f6862a221c35>\u001b[0m in \u001b[0;36m<module>\u001b[0;34m\u001b[0m\n\u001b[0;32m----> 1\u001b[0;31m \u001b[0mprint\u001b[0m\u001b[0;34m(\u001b[0m\u001b[0mftotal\u001b[0m\u001b[0;34m)\u001b[0m\u001b[0;34m\u001b[0m\u001b[0;34m\u001b[0m\u001b[0m\n\u001b[0m",
      "\u001b[0;31mNameError\u001b[0m: name 'ftotal' is not defined"
     ]
    }
   ],
   "source": [
    "print(ftotal) # because ftotal is a local variable (and not global)"
   ]
  },
  {
   "cell_type": "code",
   "execution_count": 22,
   "id": "90717e92",
   "metadata": {},
   "outputs": [],
   "source": [
    "def find_total1(expenses):\n",
    "    \n",
    "    '''\n",
    "    This function takes expenses list as an input and returns a total sum of that list \n",
    "    param expenses- list of input expenses\n",
    "    return- total expense\n",
    "    '''\n",
    "    \n",
    "    ftotal = 0  \n",
    "    for expense in expenses:\n",
    "        ftotal += expense\n",
    "    return ftotal\n",
    "        \n",
    "     "
   ]
  },
  {
   "cell_type": "code",
   "execution_count": 23,
   "id": "6d40a887",
   "metadata": {},
   "outputs": [
    {
     "name": "stdout",
     "output_type": "stream",
     "text": [
      "Help on function find_total1 in module __main__:\n",
      "\n",
      "find_total1(expenses)\n",
      "    This function takes expenses list as an input and returns a total sum of that list \n",
      "    param expenses- list of input expenses\n",
      "    return- total expense\n",
      "\n",
      "None\n"
     ]
    }
   ],
   "source": [
    "print(help(find_total1))"
   ]
  },
  {
   "cell_type": "code",
   "execution_count": 21,
   "id": "d95c9646",
   "metadata": {},
   "outputs": [
    {
     "name": "stdout",
     "output_type": "stream",
     "text": [
      "Help on function find_total1 in module __main__:\n",
      "\n",
      "find_total1(expenses)\n",
      "\n"
     ]
    }
   ],
   "source": [
    "help(find_total1)"
   ]
  },
  {
   "cell_type": "code",
   "execution_count": 20,
   "id": "e5afab09",
   "metadata": {},
   "outputs": [
    {
     "data": {
      "text/plain": [
       "27"
      ]
     },
     "execution_count": 20,
     "metadata": {},
     "output_type": "execute_result"
    }
   ],
   "source": [
    "find_total1([2,3,4,5,6,7])"
   ]
  },
  {
   "cell_type": "code",
   "execution_count": null,
   "id": "654b1057",
   "metadata": {},
   "outputs": [],
   "source": []
  },
  {
   "cell_type": "markdown",
   "id": "aa78ddba",
   "metadata": {},
   "source": [
    "Function to calculate the volume of cylinder"
   ]
  },
  {
   "cell_type": "code",
   "execution_count": 24,
   "id": "48184604",
   "metadata": {},
   "outputs": [],
   "source": [
    "def cylinder_volume(radius, height):\n",
    "    volume = 3.14 * (radius**2) * height\n",
    "    return volume"
   ]
  },
  {
   "cell_type": "code",
   "execution_count": 26,
   "id": "d2d0bc84",
   "metadata": {},
   "outputs": [],
   "source": [
    "r = 5\n",
    "h = 10"
   ]
  },
  {
   "cell_type": "markdown",
   "id": "b4dbf34a",
   "metadata": {},
   "source": [
    "- Positional arguments"
   ]
  },
  {
   "cell_type": "code",
   "execution_count": 30,
   "id": "0cbc95d4",
   "metadata": {},
   "outputs": [
    {
     "name": "stdout",
     "output_type": "stream",
     "text": [
      "Volume of cylinder is 785.0 cubic meters\n"
     ]
    }
   ],
   "source": [
    "volume = cylinder_volume(r,h)\n",
    "print(\"Volume of cylinder is\",volume,\"cubic meters\")\n"
   ]
  },
  {
   "cell_type": "code",
   "execution_count": 31,
   "id": "c1bc9bab",
   "metadata": {},
   "outputs": [
    {
     "data": {
      "text/plain": [
       "1570.0"
      ]
     },
     "execution_count": 31,
     "metadata": {},
     "output_type": "execute_result"
    }
   ],
   "source": [
    "cylinder_volume(10,5)"
   ]
  },
  {
   "cell_type": "markdown",
   "id": "8607a707",
   "metadata": {},
   "source": [
    "- Keyword arguments"
   ]
  },
  {
   "cell_type": "code",
   "execution_count": 32,
   "id": "503ae8b1",
   "metadata": {},
   "outputs": [
    {
     "data": {
      "text/plain": [
       "785.0"
      ]
     },
     "execution_count": 32,
     "metadata": {},
     "output_type": "execute_result"
    }
   ],
   "source": [
    "cylinder_volume(height=10,radius=5)"
   ]
  },
  {
   "cell_type": "code",
   "execution_count": null,
   "id": "e8f99bff",
   "metadata": {},
   "outputs": [],
   "source": []
  },
  {
   "cell_type": "markdown",
   "id": "721c72f5",
   "metadata": {},
   "source": [
    "- Default argument\n",
    "- lets say height is fixed for all the cylinders in fcatory\n",
    "- radius not fixed"
   ]
  },
  {
   "cell_type": "code",
   "execution_count": 33,
   "id": "f4d9b0e7",
   "metadata": {},
   "outputs": [],
   "source": [
    "def cylinder_volume(radius, height=7):\n",
    "    volume = 3.14 * (radius**2) * height\n",
    "    return volume"
   ]
  },
  {
   "cell_type": "code",
   "execution_count": 34,
   "id": "2a4c8f46",
   "metadata": {},
   "outputs": [
    {
     "data": {
      "text/plain": [
       "785.0"
      ]
     },
     "execution_count": 34,
     "metadata": {},
     "output_type": "execute_result"
    }
   ],
   "source": [
    "cylinder_volume(5,10)"
   ]
  },
  {
   "cell_type": "code",
   "execution_count": 35,
   "id": "1cb5634f",
   "metadata": {},
   "outputs": [
    {
     "data": {
      "text/plain": [
       "549.5"
      ]
     },
     "execution_count": 35,
     "metadata": {},
     "output_type": "execute_result"
    }
   ],
   "source": [
    "cylinder_volume(5)"
   ]
  },
  {
   "cell_type": "code",
   "execution_count": null,
   "id": "3c1d47a2",
   "metadata": {},
   "outputs": [],
   "source": []
  }
 ],
 "metadata": {
  "kernelspec": {
   "display_name": "Python 3",
   "language": "python",
   "name": "python3"
  },
  "language_info": {
   "codemirror_mode": {
    "name": "ipython",
    "version": 3
   },
   "file_extension": ".py",
   "mimetype": "text/x-python",
   "name": "python",
   "nbconvert_exporter": "python",
   "pygments_lexer": "ipython3",
   "version": "3.6.12"
  }
 },
 "nbformat": 4,
 "nbformat_minor": 5
}
